{
 "cells": [
  {
   "cell_type": "markdown",
   "id": "e098ce7b-470f-4c41-9155-7517bea5af36",
   "metadata": {},
   "source": [
    "<h1>Name: Jade Carlo Redota</h1>\n",
    "<h2>BSIT-3A</h2>"
   ]
  },
  {
   "cell_type": "code",
   "execution_count": 1,
   "id": "7d988df7-b067-42d3-a506-4e37543f92cb",
   "metadata": {},
   "outputs": [],
   "source": [
    "import numpy as np\n",
    "import pandas as pd\n",
    "import warnings\n",
    "warnings.filterwarnings('ignore')"
   ]
  },
  {
   "cell_type": "code",
   "execution_count": 2,
   "id": "760fb124-9491-4ec9-8ff8-3575107f730c",
   "metadata": {},
   "outputs": [],
   "source": [
    "df = pd.read_csv('datesets\\\\penguins.csv')"
   ]
  },
  {
   "cell_type": "code",
   "execution_count": 3,
   "id": "db9fa581-eec5-41e0-b9de-00e42a1303d5",
   "metadata": {},
   "outputs": [
    {
     "data": {
      "text/html": [
       "<div>\n",
       "<style scoped>\n",
       "    .dataframe tbody tr th:only-of-type {\n",
       "        vertical-align: middle;\n",
       "    }\n",
       "\n",
       "    .dataframe tbody tr th {\n",
       "        vertical-align: top;\n",
       "    }\n",
       "\n",
       "    .dataframe thead th {\n",
       "        text-align: right;\n",
       "    }\n",
       "</style>\n",
       "<table border=\"1\" class=\"dataframe\">\n",
       "  <thead>\n",
       "    <tr style=\"text-align: right;\">\n",
       "      <th></th>\n",
       "      <th>species</th>\n",
       "      <th>island</th>\n",
       "      <th>bill_length_mm</th>\n",
       "      <th>bill_depth_mm</th>\n",
       "      <th>flipper_length_mm</th>\n",
       "      <th>body_mass_g</th>\n",
       "      <th>sex</th>\n",
       "      <th>year</th>\n",
       "    </tr>\n",
       "  </thead>\n",
       "  <tbody>\n",
       "    <tr>\n",
       "      <th>0</th>\n",
       "      <td>Adelie</td>\n",
       "      <td>Torgersen</td>\n",
       "      <td>39.1</td>\n",
       "      <td>18.7</td>\n",
       "      <td>181.0</td>\n",
       "      <td>3750.0</td>\n",
       "      <td>male</td>\n",
       "      <td>2007</td>\n",
       "    </tr>\n",
       "    <tr>\n",
       "      <th>1</th>\n",
       "      <td>Adelie</td>\n",
       "      <td>Torgersen</td>\n",
       "      <td>39.5</td>\n",
       "      <td>17.4</td>\n",
       "      <td>186.0</td>\n",
       "      <td>3800.0</td>\n",
       "      <td>female</td>\n",
       "      <td>2007</td>\n",
       "    </tr>\n",
       "    <tr>\n",
       "      <th>2</th>\n",
       "      <td>Adelie</td>\n",
       "      <td>Torgersen</td>\n",
       "      <td>40.3</td>\n",
       "      <td>18.0</td>\n",
       "      <td>195.0</td>\n",
       "      <td>3250.0</td>\n",
       "      <td>female</td>\n",
       "      <td>2007</td>\n",
       "    </tr>\n",
       "    <tr>\n",
       "      <th>3</th>\n",
       "      <td>Adelie</td>\n",
       "      <td>Torgersen</td>\n",
       "      <td>NaN</td>\n",
       "      <td>NaN</td>\n",
       "      <td>NaN</td>\n",
       "      <td>NaN</td>\n",
       "      <td>NaN</td>\n",
       "      <td>2007</td>\n",
       "    </tr>\n",
       "    <tr>\n",
       "      <th>4</th>\n",
       "      <td>Adelie</td>\n",
       "      <td>Torgersen</td>\n",
       "      <td>36.7</td>\n",
       "      <td>19.3</td>\n",
       "      <td>193.0</td>\n",
       "      <td>3450.0</td>\n",
       "      <td>female</td>\n",
       "      <td>2007</td>\n",
       "    </tr>\n",
       "    <tr>\n",
       "      <th>...</th>\n",
       "      <td>...</td>\n",
       "      <td>...</td>\n",
       "      <td>...</td>\n",
       "      <td>...</td>\n",
       "      <td>...</td>\n",
       "      <td>...</td>\n",
       "      <td>...</td>\n",
       "      <td>...</td>\n",
       "    </tr>\n",
       "    <tr>\n",
       "      <th>339</th>\n",
       "      <td>Chinstrap</td>\n",
       "      <td>Dream</td>\n",
       "      <td>55.8</td>\n",
       "      <td>19.8</td>\n",
       "      <td>207.0</td>\n",
       "      <td>4000.0</td>\n",
       "      <td>male</td>\n",
       "      <td>2009</td>\n",
       "    </tr>\n",
       "    <tr>\n",
       "      <th>340</th>\n",
       "      <td>Chinstrap</td>\n",
       "      <td>Dream</td>\n",
       "      <td>43.5</td>\n",
       "      <td>18.1</td>\n",
       "      <td>202.0</td>\n",
       "      <td>3400.0</td>\n",
       "      <td>female</td>\n",
       "      <td>2009</td>\n",
       "    </tr>\n",
       "    <tr>\n",
       "      <th>341</th>\n",
       "      <td>Chinstrap</td>\n",
       "      <td>Dream</td>\n",
       "      <td>49.6</td>\n",
       "      <td>18.2</td>\n",
       "      <td>193.0</td>\n",
       "      <td>3775.0</td>\n",
       "      <td>male</td>\n",
       "      <td>2009</td>\n",
       "    </tr>\n",
       "    <tr>\n",
       "      <th>342</th>\n",
       "      <td>Chinstrap</td>\n",
       "      <td>Dream</td>\n",
       "      <td>50.8</td>\n",
       "      <td>19.0</td>\n",
       "      <td>210.0</td>\n",
       "      <td>4100.0</td>\n",
       "      <td>male</td>\n",
       "      <td>2009</td>\n",
       "    </tr>\n",
       "    <tr>\n",
       "      <th>343</th>\n",
       "      <td>Chinstrap</td>\n",
       "      <td>Dream</td>\n",
       "      <td>50.2</td>\n",
       "      <td>18.7</td>\n",
       "      <td>198.0</td>\n",
       "      <td>3775.0</td>\n",
       "      <td>female</td>\n",
       "      <td>2009</td>\n",
       "    </tr>\n",
       "  </tbody>\n",
       "</table>\n",
       "<p>344 rows × 8 columns</p>\n",
       "</div>"
      ],
      "text/plain": [
       "       species     island  bill_length_mm  bill_depth_mm  flipper_length_mm  \\\n",
       "0       Adelie  Torgersen            39.1           18.7              181.0   \n",
       "1       Adelie  Torgersen            39.5           17.4              186.0   \n",
       "2       Adelie  Torgersen            40.3           18.0              195.0   \n",
       "3       Adelie  Torgersen             NaN            NaN                NaN   \n",
       "4       Adelie  Torgersen            36.7           19.3              193.0   \n",
       "..         ...        ...             ...            ...                ...   \n",
       "339  Chinstrap      Dream            55.8           19.8              207.0   \n",
       "340  Chinstrap      Dream            43.5           18.1              202.0   \n",
       "341  Chinstrap      Dream            49.6           18.2              193.0   \n",
       "342  Chinstrap      Dream            50.8           19.0              210.0   \n",
       "343  Chinstrap      Dream            50.2           18.7              198.0   \n",
       "\n",
       "     body_mass_g     sex  year  \n",
       "0         3750.0    male  2007  \n",
       "1         3800.0  female  2007  \n",
       "2         3250.0  female  2007  \n",
       "3            NaN     NaN  2007  \n",
       "4         3450.0  female  2007  \n",
       "..           ...     ...   ...  \n",
       "339       4000.0    male  2009  \n",
       "340       3400.0  female  2009  \n",
       "341       3775.0    male  2009  \n",
       "342       4100.0    male  2009  \n",
       "343       3775.0  female  2009  \n",
       "\n",
       "[344 rows x 8 columns]"
      ]
     },
     "execution_count": 3,
     "metadata": {},
     "output_type": "execute_result"
    }
   ],
   "source": [
    "df"
   ]
  },
  {
   "cell_type": "code",
   "execution_count": 4,
   "id": "9b8fa1f5-37d0-4d01-aa26-26d4ebfe17d5",
   "metadata": {},
   "outputs": [
    {
     "name": "stdout",
     "output_type": "stream",
     "text": [
      "<class 'pandas.core.frame.DataFrame'>\n",
      "RangeIndex: 344 entries, 0 to 343\n",
      "Data columns (total 8 columns):\n",
      " #   Column             Non-Null Count  Dtype  \n",
      "---  ------             --------------  -----  \n",
      " 0   species            344 non-null    object \n",
      " 1   island             344 non-null    object \n",
      " 2   bill_length_mm     342 non-null    float64\n",
      " 3   bill_depth_mm      342 non-null    float64\n",
      " 4   flipper_length_mm  342 non-null    float64\n",
      " 5   body_mass_g        342 non-null    float64\n",
      " 6   sex                333 non-null    object \n",
      " 7   year               344 non-null    int64  \n",
      "dtypes: float64(4), int64(1), object(3)\n",
      "memory usage: 21.6+ KB\n"
     ]
    }
   ],
   "source": [
    "df.info()"
   ]
  },
  {
   "cell_type": "code",
   "execution_count": 5,
   "id": "dbd4ad52-1eb7-4d2e-8c12-881977b82049",
   "metadata": {},
   "outputs": [
    {
     "data": {
      "text/html": [
       "<div>\n",
       "<style scoped>\n",
       "    .dataframe tbody tr th:only-of-type {\n",
       "        vertical-align: middle;\n",
       "    }\n",
       "\n",
       "    .dataframe tbody tr th {\n",
       "        vertical-align: top;\n",
       "    }\n",
       "\n",
       "    .dataframe thead th {\n",
       "        text-align: right;\n",
       "    }\n",
       "</style>\n",
       "<table border=\"1\" class=\"dataframe\">\n",
       "  <thead>\n",
       "    <tr style=\"text-align: right;\">\n",
       "      <th></th>\n",
       "      <th>bill_length_mm</th>\n",
       "      <th>bill_depth_mm</th>\n",
       "      <th>flipper_length_mm</th>\n",
       "      <th>body_mass_g</th>\n",
       "      <th>year</th>\n",
       "    </tr>\n",
       "  </thead>\n",
       "  <tbody>\n",
       "    <tr>\n",
       "      <th>count</th>\n",
       "      <td>342.000000</td>\n",
       "      <td>342.000000</td>\n",
       "      <td>342.000000</td>\n",
       "      <td>342.000000</td>\n",
       "      <td>344.000000</td>\n",
       "    </tr>\n",
       "    <tr>\n",
       "      <th>mean</th>\n",
       "      <td>43.921930</td>\n",
       "      <td>17.151170</td>\n",
       "      <td>200.915205</td>\n",
       "      <td>4201.754386</td>\n",
       "      <td>2008.029070</td>\n",
       "    </tr>\n",
       "    <tr>\n",
       "      <th>std</th>\n",
       "      <td>5.459584</td>\n",
       "      <td>1.974793</td>\n",
       "      <td>14.061714</td>\n",
       "      <td>801.954536</td>\n",
       "      <td>0.818356</td>\n",
       "    </tr>\n",
       "    <tr>\n",
       "      <th>min</th>\n",
       "      <td>32.100000</td>\n",
       "      <td>13.100000</td>\n",
       "      <td>172.000000</td>\n",
       "      <td>2700.000000</td>\n",
       "      <td>2007.000000</td>\n",
       "    </tr>\n",
       "    <tr>\n",
       "      <th>25%</th>\n",
       "      <td>39.225000</td>\n",
       "      <td>15.600000</td>\n",
       "      <td>190.000000</td>\n",
       "      <td>3550.000000</td>\n",
       "      <td>2007.000000</td>\n",
       "    </tr>\n",
       "    <tr>\n",
       "      <th>50%</th>\n",
       "      <td>44.450000</td>\n",
       "      <td>17.300000</td>\n",
       "      <td>197.000000</td>\n",
       "      <td>4050.000000</td>\n",
       "      <td>2008.000000</td>\n",
       "    </tr>\n",
       "    <tr>\n",
       "      <th>75%</th>\n",
       "      <td>48.500000</td>\n",
       "      <td>18.700000</td>\n",
       "      <td>213.000000</td>\n",
       "      <td>4750.000000</td>\n",
       "      <td>2009.000000</td>\n",
       "    </tr>\n",
       "    <tr>\n",
       "      <th>max</th>\n",
       "      <td>59.600000</td>\n",
       "      <td>21.500000</td>\n",
       "      <td>231.000000</td>\n",
       "      <td>6300.000000</td>\n",
       "      <td>2009.000000</td>\n",
       "    </tr>\n",
       "  </tbody>\n",
       "</table>\n",
       "</div>"
      ],
      "text/plain": [
       "       bill_length_mm  bill_depth_mm  flipper_length_mm  body_mass_g  \\\n",
       "count      342.000000     342.000000         342.000000   342.000000   \n",
       "mean        43.921930      17.151170         200.915205  4201.754386   \n",
       "std          5.459584       1.974793          14.061714   801.954536   \n",
       "min         32.100000      13.100000         172.000000  2700.000000   \n",
       "25%         39.225000      15.600000         190.000000  3550.000000   \n",
       "50%         44.450000      17.300000         197.000000  4050.000000   \n",
       "75%         48.500000      18.700000         213.000000  4750.000000   \n",
       "max         59.600000      21.500000         231.000000  6300.000000   \n",
       "\n",
       "              year  \n",
       "count   344.000000  \n",
       "mean   2008.029070  \n",
       "std       0.818356  \n",
       "min    2007.000000  \n",
       "25%    2007.000000  \n",
       "50%    2008.000000  \n",
       "75%    2009.000000  \n",
       "max    2009.000000  "
      ]
     },
     "execution_count": 5,
     "metadata": {},
     "output_type": "execute_result"
    }
   ],
   "source": [
    "df.describe()"
   ]
  },
  {
   "cell_type": "code",
   "execution_count": 6,
   "id": "1b406766-de40-4819-8693-3a3cbfd0b283",
   "metadata": {},
   "outputs": [
    {
     "data": {
      "text/plain": [
       "species               0\n",
       "island                0\n",
       "bill_length_mm        2\n",
       "bill_depth_mm         2\n",
       "flipper_length_mm     2\n",
       "body_mass_g           2\n",
       "sex                  11\n",
       "year                  0\n",
       "dtype: int64"
      ]
     },
     "execution_count": 6,
     "metadata": {},
     "output_type": "execute_result"
    }
   ],
   "source": [
    "df.isnull().sum()"
   ]
  },
  {
   "cell_type": "code",
   "execution_count": 7,
   "id": "7f60578c-1288-41e7-8543-3e9ab0ae78d2",
   "metadata": {},
   "outputs": [],
   "source": [
    "df['bill_length_mm'] = df['bill_length_mm'].mean()"
   ]
  },
  {
   "cell_type": "code",
   "execution_count": 8,
   "id": "a0ae70e6-6f28-44e3-b5f5-a9b5a721f359",
   "metadata": {},
   "outputs": [],
   "source": [
    "df['bill_length_mm'] = df['bill_length_mm'].fillna(df['bill_length_mm'].mean())"
   ]
  },
  {
   "cell_type": "code",
   "execution_count": 9,
   "id": "9b86461f-465f-4fdb-88aa-0b25dd38e059",
   "metadata": {},
   "outputs": [
    {
     "data": {
      "text/plain": [
       "species               0\n",
       "island                0\n",
       "bill_length_mm        0\n",
       "bill_depth_mm         2\n",
       "flipper_length_mm     2\n",
       "body_mass_g           2\n",
       "sex                  11\n",
       "year                  0\n",
       "dtype: int64"
      ]
     },
     "execution_count": 9,
     "metadata": {},
     "output_type": "execute_result"
    }
   ],
   "source": [
    "df.isnull().sum()"
   ]
  },
  {
   "cell_type": "markdown",
   "id": "94889274-f3e9-4a8c-967f-6d408f2d9bc1",
   "metadata": {},
   "source": [
    "df['bill_depth_mm'] = df['bill_depth_mm'].fillna(df['bill_depth_mm'].mean())\n",
    "df['flipper_length_mm'] = df['flipper_length_mm'].fillna(df['flipper_length_mm'].mean())\n",
    "df['body_mass_g'] = df['body_mass_g'].fillna(df['body_mass_g'].mean())\n",
    "df['sex'] = df['sex'].fillna(df['sex'].mode()[0])"
   ]
  },
  {
   "cell_type": "markdown",
   "id": "8d474ac7-148e-4674-850b-e3cd19699300",
   "metadata": {},
   "source": [
    "df.isnull().sum()"
   ]
  },
  {
   "cell_type": "markdown",
   "id": "704560b5-9767-4d04-a559-8dedca36bf80",
   "metadata": {},
   "source": [
    "<h2>1.How many total records are in the dataset?</h2>"
   ]
  },
  {
   "cell_type": "code",
   "execution_count": 10,
   "id": "8df550f3-df93-478c-b303-7052d5218cff",
   "metadata": {},
   "outputs": [],
   "source": [
    "total_length = len(df)"
   ]
  },
  {
   "cell_type": "code",
   "execution_count": 11,
   "id": "7bb045e6-ae30-4ef5-af74-26f1991c82c6",
   "metadata": {},
   "outputs": [
    {
     "data": {
      "text/plain": [
       "344"
      ]
     },
     "execution_count": 11,
     "metadata": {},
     "output_type": "execute_result"
    }
   ],
   "source": [
    "total_length"
   ]
  },
  {
   "cell_type": "markdown",
   "id": "e4b77146-27aa-428a-870d-1a546eb27cc2",
   "metadata": {},
   "source": [
    "<h3>Insight: The dataset contains 344 total records which makes it easier to identify the patterns and trends in penguin characteristics</h3>"
   ]
  },
  {
   "cell_type": "markdown",
   "id": "abeb3ba0-ed89-4c6f-a65d-6a7433752452",
   "metadata": {},
   "source": [
    "<h2>2.Is there a difference in average flipper length between male and female penguins?</h2>"
   ]
  },
  {
   "cell_type": "code",
   "execution_count": 12,
   "id": "40201c92-1e56-4c18-8713-e307aeaf20f4",
   "metadata": {},
   "outputs": [
    {
     "data": {
      "text/plain": [
       "sex\n",
       "female    197.363636\n",
       "male      204.505952\n",
       "Name: flipper_length_mm, dtype: float64"
      ]
     },
     "execution_count": 12,
     "metadata": {},
     "output_type": "execute_result"
    }
   ],
   "source": [
    "df.groupby(\"sex\")[\"flipper_length_mm\"].mean()"
   ]
  },
  {
   "cell_type": "markdown",
   "id": "aed4c5f2-f94a-45c3-96ad-5509aa274697",
   "metadata": {},
   "source": [
    "<h3>Insight: Males generally have slightly longer flippers, which could affect swimming performance or mating displays.</h3>"
   ]
  },
  {
   "cell_type": "markdown",
   "id": "48d4d645-e384-4278-831f-4ee351ff0ccc",
   "metadata": {},
   "source": [
    "<h2>3.Which island hosts the most diverse penguin species?</h2>"
   ]
  },
  {
   "cell_type": "code",
   "execution_count": 13,
   "id": "584d15ce-05bd-4b51-9b42-ca086e3a8bc1",
   "metadata": {},
   "outputs": [
    {
     "data": {
      "text/plain": [
       "island\n",
       "Biscoe       2\n",
       "Dream        2\n",
       "Torgersen    1\n",
       "Name: species, dtype: int64"
      ]
     },
     "execution_count": 13,
     "metadata": {},
     "output_type": "execute_result"
    }
   ],
   "source": [
    "df.groupby(\"island\")[\"species\"].nunique()"
   ]
  },
  {
   "cell_type": "markdown",
   "id": "bff2bd21-9cf9-49af-8ec0-944c431cb2f2",
   "metadata": {},
   "source": [
    "<h3>Insight: The island with the highest unique species count is the Biscoe and Dream .</h3>"
   ]
  },
  {
   "cell_type": "markdown",
   "id": "4da376b8-20bc-4b7c-a834-034a0e55fc98",
   "metadata": {},
   "source": [
    "<h2>4.How does the average bill length differ among the three penguin species?</h2>"
   ]
  },
  {
   "cell_type": "code",
   "execution_count": 14,
   "id": "57b8db4f-a105-4298-aa35-132e8222eb7e",
   "metadata": {},
   "outputs": [
    {
     "data": {
      "text/plain": [
       "species\n",
       "Adelie       43.92193\n",
       "Chinstrap    43.92193\n",
       "Gentoo       43.92193\n",
       "Name: bill_length_mm, dtype: float64"
      ]
     },
     "execution_count": 14,
     "metadata": {},
     "output_type": "execute_result"
    }
   ],
   "source": [
    "df.groupby(\"species\")[\"bill_length_mm\"].mean()"
   ]
  },
  {
   "cell_type": "markdown",
   "id": "747ec93e-eaa3-4c20-9a5c-5b8313143a7b",
   "metadata": {},
   "source": [
    "<h3>Insight: The average bill length among the three penguins species is the same 43.92193.</h3>"
   ]
  },
  {
   "cell_type": "markdown",
   "id": "fd17aea5-d1df-4aba-84e5-7c52d897d79d",
   "metadata": {},
   "source": [
    "<h2>5.Which species has the highest average body mass by sex</h2>"
   ]
  },
  {
   "cell_type": "code",
   "execution_count": 15,
   "id": "1c5fc227-364d-43af-acec-b1ece27172e4",
   "metadata": {},
   "outputs": [
    {
     "data": {
      "text/plain": [
       "species    sex   \n",
       "Adelie     female    3368.835616\n",
       "           male      4043.493151\n",
       "Chinstrap  female    3527.205882\n",
       "           male      3938.970588\n",
       "Gentoo     female    4679.741379\n",
       "           male      5484.836066\n",
       "Name: body_mass_g, dtype: float64"
      ]
     },
     "execution_count": 15,
     "metadata": {},
     "output_type": "execute_result"
    }
   ],
   "source": [
    "df.groupby([\"species\", \"sex\"])[\"body_mass_g\"].mean()"
   ]
  },
  {
   "cell_type": "markdown",
   "id": "838f8d93-6820-4f49-9b19-0513320d1b20",
   "metadata": {},
   "source": [
    "<h3>Insight: The species that has the highest average body mass by sex is Gentoo is has a 4679.741379 in female,and 5411.011430 in male  .</h3>"
   ]
  },
  {
   "cell_type": "markdown",
   "id": "f572aaf4-8702-4c73-8a0c-c9d59af06bb8",
   "metadata": {},
   "source": [
    "<h2>6.How does the average body mass vary across the recorded years?</h2>"
   ]
  },
  {
   "cell_type": "code",
   "execution_count": 16,
   "id": "5fe77519-e4f4-44f0-87c3-05fdd4d88a28",
   "metadata": {},
   "outputs": [
    {
     "data": {
      "text/plain": [
       "year\n",
       "2007    4124.541284\n",
       "2008    4266.666667\n",
       "2009    4210.294118\n",
       "Name: body_mass_g, dtype: float64"
      ]
     },
     "execution_count": 16,
     "metadata": {},
     "output_type": "execute_result"
    }
   ],
   "source": [
    "df.groupby(\"year\")[\"body_mass_g\"].mean()"
   ]
  },
  {
   "cell_type": "markdown",
   "id": "f21a98f8-0449-40bc-99d0-60d670bea927",
   "metadata": {},
   "source": [
    "<h3>Insight: The average body that vary across the years is noticeable upward or downward trend could hint at environmental changes or food availability shifts.</h3>"
   ]
  },
  {
   "cell_type": "markdown",
   "id": "d3fcf4a1-c3d0-4582-a823-432aa15f85cf",
   "metadata": {},
   "source": [
    "<h2>7.Which year recorded the highest average flipper length?</h2>"
   ]
  },
  {
   "cell_type": "code",
   "execution_count": 17,
   "id": "5e1fa2d6-7ef7-4ed6-8516-d3015f6f0816",
   "metadata": {},
   "outputs": [
    {
     "data": {
      "text/plain": [
       "island\n",
       "Biscoe       209.706587\n",
       "Dream        193.072581\n",
       "Torgersen    191.196078\n",
       "Name: flipper_length_mm, dtype: float64"
      ]
     },
     "execution_count": 17,
     "metadata": {},
     "output_type": "execute_result"
    }
   ],
   "source": [
    "df.groupby(\"island\")[\"flipper_length_mm\"].mean()"
   ]
  },
  {
   "cell_type": "markdown",
   "id": "010a0869-06fb-4ded-822c-e26fcf66e281",
   "metadata": {},
   "source": [
    "<h3>Insight: The highest average in flipper_length_mm is Torgersen it reflect island-specific diets or foraging habits.</h3>"
   ]
  },
  {
   "cell_type": "markdown",
   "id": "6c138227-b88d-4e86-9e8b-342e39c06b5f",
   "metadata": {},
   "source": [
    "<h2>8.Is there a correlation between bill length and flipper length?</h2>"
   ]
  },
  {
   "cell_type": "code",
   "execution_count": 19,
   "id": "dce7c727-34ce-42e1-b07b-9868f3132fbe",
   "metadata": {},
   "outputs": [],
   "source": [
    "bill_flipper_cor = df['bill_length_mm'].corr(df['flipper_length_mm'])"
   ]
  },
  {
   "cell_type": "markdown",
   "id": "77d95e0b-3a3f-4d4d-8f47-6aee875ec2ba",
   "metadata": {},
   "source": [
    "bill_flipper_cor"
   ]
  },
  {
   "cell_type": "markdown",
   "id": "c983b929-cb4e-4432-8796-e291d0403347",
   "metadata": {},
   "source": [
    "<h3>Insight:A positive correlation would suggest that penguins with longer bills also tend to have longer flippers.\n",
    ".</h3>"
   ]
  },
  {
   "cell_type": "markdown",
   "id": "e1cabaa1-4104-4318-82e7-ed83ba7fc06d",
   "metadata": {},
   "source": [
    "<h2>9.Is there a correlation between bill length and flipper length?</h2>"
   ]
  },
  {
   "cell_type": "code",
   "execution_count": 27,
   "id": "bbe380a7-5b0e-4eb5-b1b4-86743be82492",
   "metadata": {},
   "outputs": [],
   "source": [
    "billdepth_bodymass_cor = df['bill_depth_mm'].corr(df['body_mass_g'])"
   ]
  },
  {
   "cell_type": "code",
   "execution_count": 28,
   "id": "24c63561-5eb2-46ff-ab91-bd0ce2e792ba",
   "metadata": {},
   "outputs": [
    {
     "data": {
      "text/plain": [
       "np.float64(-0.47191562118606645)"
      ]
     },
     "execution_count": 28,
     "metadata": {},
     "output_type": "execute_result"
    }
   ],
   "source": [
    "billdepth_bodymass_cor"
   ]
  },
  {
   "cell_type": "markdown",
   "id": "28209e0a-e2cd-471a-99eb-387759559527",
   "metadata": {},
   "source": [
    "<h3>Insight:Theres no Correlation and could reveal whether thicker-billed penguins are generally heavier.\n",
    ".</h3>"
   ]
  },
  {
   "cell_type": "markdown",
   "id": "ddf0bedf-9700-485f-b257-b898b93ff975",
   "metadata": {},
   "source": [
    "<h2>10. Is there a correlation between flipper length and body mass?</h2>"
   ]
  },
  {
   "cell_type": "code",
   "execution_count": 31,
   "id": "f79ec463-35f5-46ae-b63e-9e8b2dfb4e15",
   "metadata": {},
   "outputs": [],
   "source": [
    "flipper_bodymass_cor = df['flipper_length_mm'].corr(df['body_mass_g'])"
   ]
  },
  {
   "cell_type": "markdown",
   "id": "09e8f40e-f89e-4ad8-af98-605f4f588cf4",
   "metadata": {},
   "source": [
    "flipper_bodymass_cor"
   ]
  },
  {
   "cell_type": "markdown",
   "id": "92016e01-f937-4af3-ad6d-05421037b0ea",
   "metadata": {},
   "source": [
    "<h3>Insight:Theres a Correlation and often in animals, larger appendages come with higher body mass this checks if it’s true for penguins.</h3>"
   ]
  },
  {
   "cell_type": "markdown",
   "id": "f6c0cbb6-c7f3-452d-924e-25ca4b85e82b",
   "metadata": {},
   "source": [
    "<h2>11. Is there a correlation between bill length and bill depth?</h2>"
   ]
  },
  {
   "cell_type": "code",
   "execution_count": 35,
   "id": "d1b983a3-163d-4aff-bca6-2c18cebf5a0a",
   "metadata": {},
   "outputs": [],
   "source": [
    "billlength_billdepth_cor = df['bill_length_mm'].corr(df['bill_depth_mm'])"
   ]
  },
  {
   "cell_type": "code",
   "execution_count": 36,
   "id": "2ba0119f-ba41-407a-b5c4-ab2b7a416c31",
   "metadata": {},
   "outputs": [
    {
     "data": {
      "text/plain": [
       "np.float64(-6.479678578715949e-16)"
      ]
     },
     "execution_count": 36,
     "metadata": {},
     "output_type": "execute_result"
    }
   ],
   "source": [
    "billlength_billdepth_cor"
   ]
  },
  {
   "cell_type": "markdown",
   "id": "5f6116cd-bd67-467d-8baf-72fe3a21168b",
   "metadata": {},
   "source": [
    "<h3>Insight: Theres no Correlation and it helps understand if penguins with longer bills also tend to have thicker bills.</h3>"
   ]
  },
  {
   "cell_type": "markdown",
   "id": "bcecfa5a-b58d-4298-a8e3-1c57b689e29b",
   "metadata": {},
   "source": [
    "<h2>12. Is there a correlation between year and body mass?</h2>"
   ]
  },
  {
   "cell_type": "code",
   "execution_count": 38,
   "id": "95930214-ea2f-44df-8b84-b4f856f93f7c",
   "metadata": {},
   "outputs": [],
   "source": [
    "year_bodymass_cor = df['year'].corr(df['body_mass_g'])"
   ]
  },
  {
   "cell_type": "code",
   "execution_count": 39,
   "id": "20914840-edaa-459d-b18a-235c9aebe562",
   "metadata": {},
   "outputs": [
    {
     "data": {
      "text/plain": [
       "np.float64(0.04220939154335551)"
      ]
     },
     "execution_count": 39,
     "metadata": {},
     "output_type": "execute_result"
    }
   ],
   "source": [
    "year_bodymass_cor"
   ]
  },
  {
   "cell_type": "markdown",
   "id": "b9829336-a13a-4c23-9c70-b3dcb9e56404",
   "metadata": {},
   "source": [
    "<h3>Insight: Theres no Correlation and while year is categorical in nature here, a correlation could hint at trends in penguin body mass over time.</h3>"
   ]
  },
  {
   "cell_type": "code",
   "execution_count": null,
   "id": "3ce05d26-fbef-41e6-9205-b52d665fdb41",
   "metadata": {},
   "outputs": [],
   "source": []
  }
 ],
 "metadata": {
  "kernelspec": {
   "display_name": "Python 3 (ipykernel)",
   "language": "python",
   "name": "python3"
  },
  "language_info": {
   "codemirror_mode": {
    "name": "ipython",
    "version": 3
   },
   "file_extension": ".py",
   "mimetype": "text/x-python",
   "name": "python",
   "nbconvert_exporter": "python",
   "pygments_lexer": "ipython3",
   "version": "3.13.5"
  }
 },
 "nbformat": 4,
 "nbformat_minor": 5
}
