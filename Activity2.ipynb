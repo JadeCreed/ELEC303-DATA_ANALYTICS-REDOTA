{
 "cells": [
  {
   "cell_type": "code",
   "execution_count": 1,
   "id": "26783ec2-9d55-4c5a-a617-dcb9813e5c11",
   "metadata": {},
   "outputs": [],
   "source": [
    "import pandas as pd\n",
    "import numpy  as np\n",
    "import warnings\n",
    "\n",
    "warnings.filterwarnings('ignore')"
   ]
  },
  {
   "cell_type": "code",
   "execution_count": 4,
   "id": "bc193f57-ba0f-421d-91ec-3ebbbbeb434f",
   "metadata": {},
   "outputs": [],
   "source": [
    "df = pd.read_csv('datesets/uk_road_accident.csv')"
   ]
  },
  {
   "cell_type": "code",
   "execution_count": 5,
   "id": "f7d6be66-7298-4829-80d5-fe817d5034fe",
   "metadata": {},
   "outputs": [
    {
     "data": {
      "text/html": [
       "<div>\n",
       "<style scoped>\n",
       "    .dataframe tbody tr th:only-of-type {\n",
       "        vertical-align: middle;\n",
       "    }\n",
       "\n",
       "    .dataframe tbody tr th {\n",
       "        vertical-align: top;\n",
       "    }\n",
       "\n",
       "    .dataframe thead th {\n",
       "        text-align: right;\n",
       "    }\n",
       "</style>\n",
       "<table border=\"1\" class=\"dataframe\">\n",
       "  <thead>\n",
       "    <tr style=\"text-align: right;\">\n",
       "      <th></th>\n",
       "      <th>Index</th>\n",
       "      <th>Accident_Severity</th>\n",
       "      <th>Accident Date</th>\n",
       "      <th>Latitude</th>\n",
       "      <th>Light_Conditions</th>\n",
       "      <th>District Area</th>\n",
       "      <th>Longitude</th>\n",
       "      <th>Number_of_Casualties</th>\n",
       "      <th>Number_of_Vehicles</th>\n",
       "      <th>Road_Surface_Conditions</th>\n",
       "      <th>Road_Type</th>\n",
       "      <th>Urban_or_Rural_Area</th>\n",
       "      <th>Weather_Conditions</th>\n",
       "      <th>Vehicle_Type</th>\n",
       "    </tr>\n",
       "  </thead>\n",
       "  <tbody>\n",
       "    <tr>\n",
       "      <th>0</th>\n",
       "      <td>200701BS64157</td>\n",
       "      <td>Serious</td>\n",
       "      <td>5/6/2019</td>\n",
       "      <td>51.506187</td>\n",
       "      <td>Darkness - lights lit</td>\n",
       "      <td>Kensington and Chelsea</td>\n",
       "      <td>-0.209082</td>\n",
       "      <td>1</td>\n",
       "      <td>2</td>\n",
       "      <td>Dry</td>\n",
       "      <td>Single carriageway</td>\n",
       "      <td>Urban</td>\n",
       "      <td>Fine no high winds</td>\n",
       "      <td>Car</td>\n",
       "    </tr>\n",
       "    <tr>\n",
       "      <th>1</th>\n",
       "      <td>200701BS65737</td>\n",
       "      <td>Serious</td>\n",
       "      <td>2/7/2019</td>\n",
       "      <td>51.495029</td>\n",
       "      <td>Daylight</td>\n",
       "      <td>Kensington and Chelsea</td>\n",
       "      <td>-0.173647</td>\n",
       "      <td>1</td>\n",
       "      <td>2</td>\n",
       "      <td>Wet or damp</td>\n",
       "      <td>Single carriageway</td>\n",
       "      <td>Urban</td>\n",
       "      <td>Raining no high winds</td>\n",
       "      <td>Car</td>\n",
       "    </tr>\n",
       "    <tr>\n",
       "      <th>2</th>\n",
       "      <td>200701BS66127</td>\n",
       "      <td>Serious</td>\n",
       "      <td>26-08-2019</td>\n",
       "      <td>51.517715</td>\n",
       "      <td>Darkness - lighting unknown</td>\n",
       "      <td>Kensington and Chelsea</td>\n",
       "      <td>-0.210215</td>\n",
       "      <td>1</td>\n",
       "      <td>3</td>\n",
       "      <td>Dry</td>\n",
       "      <td>NaN</td>\n",
       "      <td>Urban</td>\n",
       "      <td>NaN</td>\n",
       "      <td>Taxi/Private hire car</td>\n",
       "    </tr>\n",
       "    <tr>\n",
       "      <th>3</th>\n",
       "      <td>200701BS66128</td>\n",
       "      <td>Serious</td>\n",
       "      <td>16-08-2019</td>\n",
       "      <td>51.495478</td>\n",
       "      <td>Daylight</td>\n",
       "      <td>Kensington and Chelsea</td>\n",
       "      <td>-0.202731</td>\n",
       "      <td>1</td>\n",
       "      <td>4</td>\n",
       "      <td>Dry</td>\n",
       "      <td>Single carriageway</td>\n",
       "      <td>Urban</td>\n",
       "      <td>Fine no high winds</td>\n",
       "      <td>Bus or coach (17 or more pass seats)</td>\n",
       "    </tr>\n",
       "    <tr>\n",
       "      <th>4</th>\n",
       "      <td>200701BS66837</td>\n",
       "      <td>Slight</td>\n",
       "      <td>3/9/2019</td>\n",
       "      <td>51.488576</td>\n",
       "      <td>Darkness - lights lit</td>\n",
       "      <td>Kensington and Chelsea</td>\n",
       "      <td>-0.192487</td>\n",
       "      <td>1</td>\n",
       "      <td>2</td>\n",
       "      <td>Dry</td>\n",
       "      <td>NaN</td>\n",
       "      <td>Urban</td>\n",
       "      <td>NaN</td>\n",
       "      <td>Other vehicle</td>\n",
       "    </tr>\n",
       "    <tr>\n",
       "      <th>...</th>\n",
       "      <td>...</td>\n",
       "      <td>...</td>\n",
       "      <td>...</td>\n",
       "      <td>...</td>\n",
       "      <td>...</td>\n",
       "      <td>...</td>\n",
       "      <td>...</td>\n",
       "      <td>...</td>\n",
       "      <td>...</td>\n",
       "      <td>...</td>\n",
       "      <td>...</td>\n",
       "      <td>...</td>\n",
       "      <td>...</td>\n",
       "      <td>...</td>\n",
       "    </tr>\n",
       "    <tr>\n",
       "      <th>660674</th>\n",
       "      <td>201091NM01760</td>\n",
       "      <td>Slight</td>\n",
       "      <td>18-02-2022</td>\n",
       "      <td>57.374005</td>\n",
       "      <td>Daylight</td>\n",
       "      <td>Highland</td>\n",
       "      <td>-3.467828</td>\n",
       "      <td>2</td>\n",
       "      <td>1</td>\n",
       "      <td>Dry</td>\n",
       "      <td>Single carriageway</td>\n",
       "      <td>Rural</td>\n",
       "      <td>Fine no high winds</td>\n",
       "      <td>Car</td>\n",
       "    </tr>\n",
       "    <tr>\n",
       "      <th>660675</th>\n",
       "      <td>201091NM01881</td>\n",
       "      <td>Slight</td>\n",
       "      <td>21-02-2022</td>\n",
       "      <td>57.232273</td>\n",
       "      <td>Darkness - no lighting</td>\n",
       "      <td>Highland</td>\n",
       "      <td>-3.809281</td>\n",
       "      <td>1</td>\n",
       "      <td>1</td>\n",
       "      <td>Frost or ice</td>\n",
       "      <td>Single carriageway</td>\n",
       "      <td>Rural</td>\n",
       "      <td>Fine no high winds</td>\n",
       "      <td>Car</td>\n",
       "    </tr>\n",
       "    <tr>\n",
       "      <th>660676</th>\n",
       "      <td>201091NM01935</td>\n",
       "      <td>Slight</td>\n",
       "      <td>23-02-2022</td>\n",
       "      <td>57.585044</td>\n",
       "      <td>Daylight</td>\n",
       "      <td>Highland</td>\n",
       "      <td>-3.862727</td>\n",
       "      <td>1</td>\n",
       "      <td>3</td>\n",
       "      <td>Frost or ice</td>\n",
       "      <td>Single carriageway</td>\n",
       "      <td>Rural</td>\n",
       "      <td>Fine no high winds</td>\n",
       "      <td>Car</td>\n",
       "    </tr>\n",
       "    <tr>\n",
       "      <th>660677</th>\n",
       "      <td>201091NM01964</td>\n",
       "      <td>Serious</td>\n",
       "      <td>23-02-2022</td>\n",
       "      <td>57.214898</td>\n",
       "      <td>Darkness - no lighting</td>\n",
       "      <td>Highland</td>\n",
       "      <td>-3.823997</td>\n",
       "      <td>1</td>\n",
       "      <td>2</td>\n",
       "      <td>Wet or damp</td>\n",
       "      <td>Single carriageway</td>\n",
       "      <td>Rural</td>\n",
       "      <td>Fine no high winds</td>\n",
       "      <td>Motorcycle over 500cc</td>\n",
       "    </tr>\n",
       "    <tr>\n",
       "      <th>660678</th>\n",
       "      <td>201091NM02142</td>\n",
       "      <td>Serious</td>\n",
       "      <td>28-02-2022</td>\n",
       "      <td>57.575210</td>\n",
       "      <td>Daylight</td>\n",
       "      <td>Highland</td>\n",
       "      <td>-3.895673</td>\n",
       "      <td>1</td>\n",
       "      <td>1</td>\n",
       "      <td>Wet or damp</td>\n",
       "      <td>Dual carriageway</td>\n",
       "      <td>Rural</td>\n",
       "      <td>Snowing no high winds</td>\n",
       "      <td>Car</td>\n",
       "    </tr>\n",
       "  </tbody>\n",
       "</table>\n",
       "<p>660679 rows × 14 columns</p>\n",
       "</div>"
      ],
      "text/plain": [
       "                Index Accident_Severity Accident Date   Latitude  \\\n",
       "0       200701BS64157           Serious      5/6/2019  51.506187   \n",
       "1       200701BS65737           Serious      2/7/2019  51.495029   \n",
       "2       200701BS66127           Serious    26-08-2019  51.517715   \n",
       "3       200701BS66128           Serious    16-08-2019  51.495478   \n",
       "4       200701BS66837            Slight      3/9/2019  51.488576   \n",
       "...               ...               ...           ...        ...   \n",
       "660674  201091NM01760            Slight    18-02-2022  57.374005   \n",
       "660675  201091NM01881            Slight    21-02-2022  57.232273   \n",
       "660676  201091NM01935            Slight    23-02-2022  57.585044   \n",
       "660677  201091NM01964           Serious    23-02-2022  57.214898   \n",
       "660678  201091NM02142           Serious    28-02-2022  57.575210   \n",
       "\n",
       "                   Light_Conditions           District Area  Longitude  \\\n",
       "0             Darkness - lights lit  Kensington and Chelsea  -0.209082   \n",
       "1                          Daylight  Kensington and Chelsea  -0.173647   \n",
       "2       Darkness - lighting unknown  Kensington and Chelsea  -0.210215   \n",
       "3                          Daylight  Kensington and Chelsea  -0.202731   \n",
       "4             Darkness - lights lit  Kensington and Chelsea  -0.192487   \n",
       "...                             ...                     ...        ...   \n",
       "660674                     Daylight                Highland  -3.467828   \n",
       "660675       Darkness - no lighting                Highland  -3.809281   \n",
       "660676                     Daylight                Highland  -3.862727   \n",
       "660677       Darkness - no lighting                Highland  -3.823997   \n",
       "660678                     Daylight                Highland  -3.895673   \n",
       "\n",
       "        Number_of_Casualties  Number_of_Vehicles Road_Surface_Conditions  \\\n",
       "0                          1                   2                     Dry   \n",
       "1                          1                   2             Wet or damp   \n",
       "2                          1                   3                     Dry   \n",
       "3                          1                   4                     Dry   \n",
       "4                          1                   2                     Dry   \n",
       "...                      ...                 ...                     ...   \n",
       "660674                     2                   1                     Dry   \n",
       "660675                     1                   1            Frost or ice   \n",
       "660676                     1                   3            Frost or ice   \n",
       "660677                     1                   2             Wet or damp   \n",
       "660678                     1                   1             Wet or damp   \n",
       "\n",
       "                 Road_Type Urban_or_Rural_Area     Weather_Conditions  \\\n",
       "0       Single carriageway               Urban     Fine no high winds   \n",
       "1       Single carriageway               Urban  Raining no high winds   \n",
       "2                      NaN               Urban                    NaN   \n",
       "3       Single carriageway               Urban     Fine no high winds   \n",
       "4                      NaN               Urban                    NaN   \n",
       "...                    ...                 ...                    ...   \n",
       "660674  Single carriageway               Rural     Fine no high winds   \n",
       "660675  Single carriageway               Rural     Fine no high winds   \n",
       "660676  Single carriageway               Rural     Fine no high winds   \n",
       "660677  Single carriageway               Rural     Fine no high winds   \n",
       "660678    Dual carriageway               Rural  Snowing no high winds   \n",
       "\n",
       "                                Vehicle_Type  \n",
       "0                                        Car  \n",
       "1                                        Car  \n",
       "2                      Taxi/Private hire car  \n",
       "3       Bus or coach (17 or more pass seats)  \n",
       "4                              Other vehicle  \n",
       "...                                      ...  \n",
       "660674                                   Car  \n",
       "660675                                   Car  \n",
       "660676                                   Car  \n",
       "660677                 Motorcycle over 500cc  \n",
       "660678                                   Car  \n",
       "\n",
       "[660679 rows x 14 columns]"
      ]
     },
     "execution_count": 5,
     "metadata": {},
     "output_type": "execute_result"
    }
   ],
   "source": [
    "df\n"
   ]
  },
  {
   "cell_type": "code",
   "execution_count": 6,
   "id": "d4659d87-c377-41b7-ba09-39fba7cfcb1e",
   "metadata": {},
   "outputs": [
    {
     "name": "stdout",
     "output_type": "stream",
     "text": [
      "<class 'pandas.core.frame.DataFrame'>\n",
      "RangeIndex: 660679 entries, 0 to 660678\n",
      "Data columns (total 14 columns):\n",
      " #   Column                   Non-Null Count   Dtype  \n",
      "---  ------                   --------------   -----  \n",
      " 0   Index                    660679 non-null  object \n",
      " 1   Accident_Severity        660679 non-null  object \n",
      " 2   Accident Date            660679 non-null  object \n",
      " 3   Latitude                 660654 non-null  float64\n",
      " 4   Light_Conditions         660679 non-null  object \n",
      " 5   District Area            660679 non-null  object \n",
      " 6   Longitude                660653 non-null  float64\n",
      " 7   Number_of_Casualties     660679 non-null  int64  \n",
      " 8   Number_of_Vehicles       660679 non-null  int64  \n",
      " 9   Road_Surface_Conditions  659953 non-null  object \n",
      " 10  Road_Type                656159 non-null  object \n",
      " 11  Urban_or_Rural_Area      660664 non-null  object \n",
      " 12  Weather_Conditions       646551 non-null  object \n",
      " 13  Vehicle_Type             660679 non-null  object \n",
      "dtypes: float64(2), int64(2), object(10)\n",
      "memory usage: 70.6+ MB\n"
     ]
    }
   ],
   "source": [
    "df.info()"
   ]
  },
  {
   "cell_type": "code",
   "execution_count": 7,
   "id": "bea1e354-0695-4a3e-8112-01f077d5d50f",
   "metadata": {},
   "outputs": [
    {
     "data": {
      "text/plain": [
       "Index                          0\n",
       "Accident_Severity              0\n",
       "Accident Date                  0\n",
       "Latitude                      25\n",
       "Light_Conditions               0\n",
       "District Area                  0\n",
       "Longitude                     26\n",
       "Number_of_Casualties           0\n",
       "Number_of_Vehicles             0\n",
       "Road_Surface_Conditions      726\n",
       "Road_Type                   4520\n",
       "Urban_or_Rural_Area           15\n",
       "Weather_Conditions         14128\n",
       "Vehicle_Type                   0\n",
       "dtype: int64"
      ]
     },
     "execution_count": 7,
     "metadata": {},
     "output_type": "execute_result"
    }
   ],
   "source": [
    "df.isnull().sum()"
   ]
  },
  {
   "cell_type": "markdown",
   "id": "7961f8fa-51df-46a0-aaae-8362d908bebb",
   "metadata": {},
   "source": [
    "<h2>Clean the dataset</h2>"
   ]
  },
  {
   "cell_type": "code",
   "execution_count": 18,
   "id": "22917ef7-949e-4284-b949-59d5b5ec5735",
   "metadata": {},
   "outputs": [],
   "source": [
    "df['Latitude'] = df['Latitude'].fillna(df['Latitude'].mean())\n",
    "df['Longitude'] = df['Longitude'].fillna(df['Longitude'].mean())\n",
    "df['Road_Surface_Conditions'] = df['Road_Surface_Conditions'].fillna(df['Road_Surface_Conditions'].mode()[0])\n",
    "df['Road_Type'] = df['Road_Type'].fillna(df['Road_Type'].mode()[0])\n",
    "df['Urban_or_Rural_Area'] = df['Urban_or_Rural_Area'].fillna(df['Urban_or_Rural_Area'].mode()[0])\n",
    "df['Weather_Conditions'] = df['Weather_Conditions'].fillna(df['Weather_Conditions'].mode()[0])"
   ]
  },
  {
   "cell_type": "code",
   "execution_count": 19,
   "id": "afb1967d-bd19-45b9-8409-41e5cfeaf628",
   "metadata": {
    "scrolled": true
   },
   "outputs": [
    {
     "data": {
      "text/plain": [
       "Index                      0\n",
       "Accident_Severity          0\n",
       "Accident Date              0\n",
       "Latitude                   0\n",
       "Light_Conditions           0\n",
       "District Area              0\n",
       "Longitude                  0\n",
       "Number_of_Casualties       0\n",
       "Number_of_Vehicles         0\n",
       "Road_Surface_Conditions    0\n",
       "Road_Type                  0\n",
       "Urban_or_Rural_Area        0\n",
       "Weather_Conditions         0\n",
       "Vehicle_Type               0\n",
       "dtype: int64"
      ]
     },
     "execution_count": 19,
     "metadata": {},
     "output_type": "execute_result"
    }
   ],
   "source": [
    "df.isnull().sum()\n"
   ]
  },
  {
   "cell_type": "markdown",
   "id": "5adb333a-5b0f-4fe8-bca8-2037b67dc8fe",
   "metadata": {},
   "source": [
    "<h2>1. Which accident severity occurs most often?</h2>"
   ]
  },
  {
   "cell_type": "code",
   "execution_count": 20,
   "id": "1980e023-e9c7-456a-badd-d45fc41110b9",
   "metadata": {},
   "outputs": [
    {
     "data": {
      "text/plain": [
       "Accident_Severity\n",
       "Slight     563801\n",
       "Serious     88217\n",
       "Fatal        8661\n",
       "Name: count, dtype: int64"
      ]
     },
     "execution_count": 20,
     "metadata": {},
     "output_type": "execute_result"
    }
   ],
   "source": [
    "df['Accident_Severity'].value_counts()\n"
   ]
  },
  {
   "cell_type": "markdown",
   "id": "3d045c15-ab72-401b-a0e7-58aa0b62d34d",
   "metadata": {},
   "source": [
    "<H2>Insight: \"Slight\" accidents are the most common, followed by \"Serious\" and \"Fatal\".</H2>"
   ]
  },
  {
   "cell_type": "markdown",
   "id": "4b72e797-bc22-4ff8-ad1e-303aeb4a7429",
   "metadata": {},
   "source": [
    "<h2>2. Which district reports the most accidents?</h2>"
   ]
  },
  {
   "cell_type": "code",
   "execution_count": 50,
   "id": "2240d16b-d863-49f1-8068-bc9cb14b454f",
   "metadata": {},
   "outputs": [
    {
     "data": {
      "text/plain": [
       "District Area\n",
       "Birmingham                  105\n",
       "Leeds                        93\n",
       "Highland                     88\n",
       "East Riding of Yorkshire     85\n",
       "Bradford                     71\n",
       "                           ... \n",
       "Havant                        2\n",
       "Orkney Islands                2\n",
       "Harlow                        1\n",
       "Clackmannanshire              1\n",
       "Stevenage                     1\n",
       "Name: count, Length: 422, dtype: int64"
      ]
     },
     "execution_count": 50,
     "metadata": {},
     "output_type": "execute_result"
    }
   ],
   "source": [
    "df[df['Accident_Severity'] == 'Fatal']['District Area'].value_counts()"
   ]
  },
  {
   "cell_type": "markdown",
   "id": "eef44ec6-063c-45a4-9dfa-ecd6318f8667",
   "metadata": {},
   "source": [
    "<h2>Insight: The busiest district has the highest accident count, showing a hotspot of risk.</h2>"
   ]
  },
  {
   "cell_type": "markdown",
   "id": "630e0d02-e04e-485f-bebc-22b27703eab1",
   "metadata": {},
   "source": [
    "<h2>3. What is the most common light condition in accidents?</h2>"
   ]
  },
  {
   "cell_type": "code",
   "execution_count": 49,
   "id": "d1eb0296-e0e9-4b57-9130-70619ec4fdba",
   "metadata": {},
   "outputs": [
    {
     "data": {
      "text/plain": [
       "Light_Conditions\n",
       "Daylight                       484880\n",
       "Darkness - lights lit          129335\n",
       "Darkness - no lighting          37437\n",
       "Darkness - lighting unknown      6484\n",
       "Darkness - lights unlit          2543\n",
       "Name: count, dtype: int64"
      ]
     },
     "execution_count": 49,
     "metadata": {},
     "output_type": "execute_result"
    }
   ],
   "source": [
    "df['Light_Conditions'].value_counts()"
   ]
  },
  {
   "cell_type": "markdown",
   "id": "2ffedd00-d086-4446-a20a-b82e12a2f409",
   "metadata": {},
   "source": [
    "<h2>Insight: Most accidents happen in daylight.</h2>"
   ]
  },
  {
   "cell_type": "markdown",
   "id": "ba510d75-1a72-4eb4-8752-a535963dbd6b",
   "metadata": {},
   "source": [
    "<h2>4. What is the most common weather condition?</h2>"
   ]
  },
  {
   "cell_type": "code",
   "execution_count": 48,
   "id": "8beaabf0-7760-4b48-8199-73a2b92a4a79",
   "metadata": {},
   "outputs": [
    {
     "data": {
      "text/plain": [
       "Weather_Conditions\n",
       "Fine no high winds       535013\n",
       "Raining no high winds     79696\n",
       "Other                     17150\n",
       "Raining + high winds       9615\n",
       "Fine + high winds          8554\n",
       "Snowing no high winds      6238\n",
       "Fog or mist                3528\n",
       "Snowing + high winds        885\n",
       "Name: count, dtype: int64"
      ]
     },
     "execution_count": 48,
     "metadata": {},
     "output_type": "execute_result"
    }
   ],
   "source": [
    "df['Weather_Conditions'].value_counts()\n"
   ]
  },
  {
   "cell_type": "markdown",
   "id": "1a9df9fb-400b-428a-bb1c-e0c1553d46e6",
   "metadata": {},
   "source": [
    "<h2>Insight: Most accidents happen in fine weather with no high winds.</h2>"
   ]
  },
  {
   "cell_type": "markdown",
   "id": "98dfc722-1664-4e62-abbd-21c6c33e4114",
   "metadata": {},
   "source": [
    "<h2>5. Which road surface condition is most frequent?</h2>"
   ]
  },
  {
   "cell_type": "code",
   "execution_count": 47,
   "id": "8319c5b3-a7bf-4b1c-ba81-91c29e7d4570",
   "metadata": {},
   "outputs": [
    {
     "data": {
      "text/plain": [
       "Road_Surface_Conditions\n",
       "Dry                     448547\n",
       "Wet or damp             186708\n",
       "Frost or ice             18517\n",
       "Snow                      5890\n",
       "Flood over 3cm. deep      1017\n",
       "Name: count, dtype: int64"
      ]
     },
     "execution_count": 47,
     "metadata": {},
     "output_type": "execute_result"
    }
   ],
   "source": [
    "df['Road_Surface_Conditions'].value_counts()\n"
   ]
  },
  {
   "cell_type": "markdown",
   "id": "bceec023-2486-4f41-944a-d32cdd0d286d",
   "metadata": {},
   "source": [
    "<h2>Insight: Majority of accidents occur on dry roads.</h2>"
   ]
  },
  {
   "cell_type": "markdown",
   "id": "afaef59d-800c-4002-9cd7-dc9d63fac287",
   "metadata": {},
   "source": [
    "<h2>6. What is the average number of vehicles per accident?</h2>"
   ]
  },
  {
   "cell_type": "code",
   "execution_count": 46,
   "id": "5e9fafb8-99b5-4dc9-a304-d540830be966",
   "metadata": {},
   "outputs": [
    {
     "data": {
      "text/plain": [
       "Road_Type\n",
       "Single carriageway    496663\n",
       "Dual carriageway       99424\n",
       "Roundabout             43992\n",
       "One way street         13559\n",
       "Slip road               7041\n",
       "Name: count, dtype: int64"
      ]
     },
     "execution_count": 46,
     "metadata": {},
     "output_type": "execute_result"
    }
   ],
   "source": [
    "df['Road_Type'].value_counts()\n"
   ]
  },
  {
   "cell_type": "markdown",
   "id": "396d854e-bbb4-474b-a39a-471ad5672dad",
   "metadata": {},
   "source": [
    "<h2>Insight: Single carriageways are the most common road type for accidents.</h2>"
   ]
  },
  {
   "cell_type": "markdown",
   "id": "91f99da6-e9be-4a5b-ab7e-55d7e6065d73",
   "metadata": {},
   "source": [
    "<h2>7. What is the average number of casualties per accident?</h2>"
   ]
  },
  {
   "cell_type": "code",
   "execution_count": 17,
   "id": "5099957c-1d7d-45b1-8ee7-32bdface9075",
   "metadata": {},
   "outputs": [
    {
     "data": {
      "text/plain": [
       "Urban_or_Rural_Area\n",
       "Urban          421678\n",
       "Rural          238990\n",
       "Unallocated        11\n",
       "Name: count, dtype: int64"
      ]
     },
     "execution_count": 17,
     "metadata": {},
     "output_type": "execute_result"
    }
   ],
   "source": [
    "df['Urban_or_Rural_Area'].value_counts()\n"
   ]
  },
  {
   "cell_type": "markdown",
   "id": "dd0513e2-2b6d-43e5-be67-c4b37dcd578e",
   "metadata": {},
   "source": [
    "<h2>Insight: Urban areas report far more accidents than rural areas.</h2>"
   ]
  },
  {
   "cell_type": "markdown",
   "id": "9644e3e4-1055-44df-b7c6-d4c25d3e0236",
   "metadata": {},
   "source": [
    "<h2>8. Which district has the highest total casualties?</h2>"
   ]
  },
  {
   "cell_type": "code",
   "execution_count": 19,
   "id": "1aad0ef3-178c-48c1-9e20-2c9a7941e48a",
   "metadata": {},
   "outputs": [
    {
     "data": {
      "text/plain": [
       "Vehicle_Type\n",
       "Car                                      497992\n",
       "Van / Goods 3.5 tonnes mgw or under       34160\n",
       "Bus or coach (17 or more pass seats)      25878\n",
       "Motorcycle over 500cc                     25657\n",
       "Goods 7.5 tonnes mgw and over             17307\n",
       "Motorcycle 125cc and under                15269\n",
       "Taxi/Private hire car                     13294\n",
       "Motorcycle over 125cc and up to 500cc      7656\n",
       "Motorcycle 50cc and under                  7603\n",
       "Goods over 3.5t. and under 7.5t            6096\n",
       "Other vehicle                              5637\n",
       "Minibus (8 - 16 passenger seats)           1976\n",
       "Agricultural vehicle                       1947\n",
       "Pedal cycle                                 197\n",
       "Data missing or out of range                  6\n",
       "Ridden horse                                  4\n",
       "Name: count, dtype: int64"
      ]
     },
     "execution_count": 19,
     "metadata": {},
     "output_type": "execute_result"
    }
   ],
   "source": [
    "df['Vehicle_Type'].value_counts()\n"
   ]
  },
  {
   "cell_type": "markdown",
   "id": "a332aac7-648c-4a1e-b294-ec5622be54a5",
   "metadata": {},
   "source": [
    "<h2>Insight: Cars are by far the most common vehicles in accidents.</h2>"
   ]
  },
  {
   "cell_type": "markdown",
   "id": "1a50f920-e6c0-43b3-a859-7a763c22d5df",
   "metadata": {},
   "source": [
    "<h2>9. Which district has the highest average casualties per accident?</h2>"
   ]
  },
  {
   "cell_type": "code",
   "execution_count": 24,
   "id": "4b59532d-8699-4aa0-8b30-5eaa78784a95",
   "metadata": {},
   "outputs": [
    {
     "data": {
      "text/plain": [
       "District Area\n",
       "Blaeu Gwent          1.693694\n",
       "West Somerset        1.613990\n",
       "Derwentside          1.606186\n",
       "Chester-le-Street    1.603306\n",
       "Durham               1.580431\n",
       "Blaenau Gwent        1.579310\n",
       "Fylde                1.569350\n",
       "Hambleton            1.568523\n",
       "Merthyr Tydfil       1.568182\n",
       "West Lancashire      1.566341\n",
       "Name: Number_of_Casualties, dtype: float64"
      ]
     },
     "execution_count": 24,
     "metadata": {},
     "output_type": "execute_result"
    }
   ],
   "source": [
    "df.groupby('District Area')['Number_of_Casualties'].mean().sort_values(ascending=False).head(10)"
   ]
  },
  {
   "cell_type": "markdown",
   "id": "3a74e101-3c82-4d11-830b-8a557a00bf5a",
   "metadata": {},
   "source": [
    "<h2>Insight: Blaeu Gwent has the highest average casualties per accident with 1.69, meaning accidents in this district tend to involve more people compared to other areas.</h2>"
   ]
  },
  {
   "cell_type": "markdown",
   "id": "b79fcd37-cbdd-4ef1-b6f9-889c76022ac4",
   "metadata": {},
   "source": [
    "<h2>10. Correlation between casualties and latitude</h2>"
   ]
  },
  {
   "cell_type": "code",
   "execution_count": 52,
   "id": "1a2c41a3-aa30-4bfc-b16b-abe875b296c5",
   "metadata": {},
   "outputs": [
    {
     "data": {
      "text/plain": [
       "np.float64(0.032200686625906395)"
      ]
     },
     "execution_count": 52,
     "metadata": {},
     "output_type": "execute_result"
    }
   ],
   "source": [
    "df['Number_of_Casualties'].corr(df['Latitude'])"
   ]
  },
  {
   "cell_type": "markdown",
   "id": "39ba5b3f-9453-4abd-8c0a-7835cf30534a",
   "metadata": {},
   "source": [
    "<h2>Insight: This correlation shows whether accident severity (in terms of casualties) has any geographic pattern north or south. A weak or near-zero value means location has little effect on casualties.</h2>"
   ]
  },
  {
   "cell_type": "markdown",
   "id": "a7b5b46e-8334-404f-888d-2e8b7590ec39",
   "metadata": {},
   "source": [
    "<h2>11. Correlation between casualties and longitude</h2>"
   ]
  },
  {
   "cell_type": "code",
   "execution_count": 53,
   "id": "dc323280-3f9d-4383-ac12-7eace3b5195e",
   "metadata": {},
   "outputs": [
    {
     "data": {
      "text/plain": [
       "np.float64(-0.04040564578845451)"
      ]
     },
     "execution_count": 53,
     "metadata": {},
     "output_type": "execute_result"
    }
   ],
   "source": [
    "df['Number_of_Casualties'].corr(df['Longitude'])\n"
   ]
  },
  {
   "cell_type": "markdown",
   "id": "35972634-d9ed-406e-8094-16d75e7b22eb",
   "metadata": {},
   "source": [
    "<h2>Insight: This reveals if there is an east–west pattern in casualty numbers. A near-zero correlation suggests location doesn’t significantly influence accident casualties.</h2>"
   ]
  },
  {
   "cell_type": "markdown",
   "id": "ba850987-8f4c-4b67-824a-c5ba8f3b95fb",
   "metadata": {},
   "source": [
    "<h2>12. Correlation between vehicles and latitude)</h2>"
   ]
  },
  {
   "cell_type": "code",
   "execution_count": 56,
   "id": "9a7b5348-0082-4a90-a96c-41a04e05a2b8",
   "metadata": {},
   "outputs": [
    {
     "data": {
      "text/plain": [
       "np.float64(-0.04002766693447657)"
      ]
     },
     "execution_count": 56,
     "metadata": {},
     "output_type": "execute_result"
    }
   ],
   "source": [
    "df['Number_of_Vehicles'].corr(df['Latitude'])\n"
   ]
  },
  {
   "cell_type": "markdown",
   "id": "5436245f-9efd-4bbf-aa65-4a77c7bfedde",
   "metadata": {},
   "source": [
    "<h2>Insight: This indicates whether multi-vehicle accidents are more common in northern vs southern areas. A low correlation would mean geography isn’t a strong factor.</h2>"
   ]
  },
  {
   "cell_type": "markdown",
   "id": "9a6f8342-230f-4466-b7f5-c8c8b98917d2",
   "metadata": {},
   "source": [
    "<h2>13. Which vehicle type is most involved in fatal accidents?</h2>"
   ]
  },
  {
   "cell_type": "code",
   "execution_count": 30,
   "id": "ae804761-0c08-4455-a7eb-03be0b3661ac",
   "metadata": {},
   "outputs": [
    {
     "data": {
      "text/plain": [
       "Vehicle_Type\n",
       "Car                                     6577\n",
       "Van / Goods 3.5 tonnes mgw or under      467\n",
       "Motorcycle over 500cc                    339\n",
       "Bus or coach (17 or more pass seats)     325\n",
       "Goods 7.5 tonnes mgw and over            216\n",
       "Name: count, dtype: int64"
      ]
     },
     "execution_count": 30,
     "metadata": {},
     "output_type": "execute_result"
    }
   ],
   "source": [
    "df[df['Accident_Severity'] == 'Fatal']['Vehicle_Type'].value_counts().head(5)\n"
   ]
  },
  {
   "cell_type": "markdown",
   "id": "d24a2c04-7c9c-405b-9a2e-9e659610ed68",
   "metadata": {},
   "source": [
    "<h2>Insight: The vehicle type most frequently involved in fatal accidents stands out as the riskiest on the road, suggesting it may need stricter safety measures, driver awareness programs, or targeted road safety policies.</h2>"
   ]
  },
  {
   "cell_type": "markdown",
   "id": "b617b5ae-e20d-409d-b99e-35905f59c42d",
   "metadata": {},
   "source": [
    "<h2>14. What is the maximum casualties in a single accident?</h2>"
   ]
  },
  {
   "cell_type": "code",
   "execution_count": 34,
   "id": "c50b89e1-8feb-4776-ad01-3a33bf900a8f",
   "metadata": {},
   "outputs": [
    {
     "name": "stdout",
     "output_type": "stream",
     "text": [
      "68\n"
     ]
    }
   ],
   "source": [
    "max_casualty_signle_accident = df['Number_of_Casualties'].max()\n",
    "print(max_casualty_signle_accident)"
   ]
  },
  {
   "cell_type": "markdown",
   "id": "0f85fc73-9718-4d8e-aea9-4b7a4a7f46a8",
   "metadata": {},
   "source": [
    "<h2>Insight: The maximum casualties recorded in a single accident show the most severe incident in this dataset, emphasizing the extreme impact such rare but devastating events can have on road safety.</h2>"
   ]
  },
  {
   "cell_type": "markdown",
   "id": "6b878ef9-fba8-4e3d-8c6c-42109dc7d92b",
   "metadata": {},
   "source": [
    "<h2>15. Which accident severity has the highest average casualties?</h2>"
   ]
  },
  {
   "cell_type": "code",
   "execution_count": 36,
   "id": "d956a70b-933e-4d4d-9fbc-8b6c967d21a7",
   "metadata": {},
   "outputs": [
    {
     "data": {
      "text/plain": [
       "Accident_Severity\n",
       "Fatal      1.903129\n",
       "Serious    1.467280\n",
       "Slight     1.331402\n",
       "Name: Number_of_Casualties, dtype: float64"
      ]
     },
     "execution_count": 36,
     "metadata": {},
     "output_type": "execute_result"
    }
   ],
   "source": [
    "df.groupby('Accident_Severity')['Number_of_Casualties'].mean().sort_values(ascending=False)\n"
   ]
  },
  {
   "cell_type": "markdown",
   "id": "13390774-bdde-49ba-8d57-cde810287cf1",
   "metadata": {},
   "source": [
    "<h2>Insight: The accident severity category with the highest average casualties shows which type of crashes typically involve more people underscoring the deadliest type of incidents in terms of impact per accident.</h2>"
   ]
  },
  {
   "cell_type": "markdown",
   "id": "cd9b9e7b-7167-4e2c-8dc2-c1e2e32ffbd3",
   "metadata": {},
   "source": [
    "<h2>16. Which road type records the most accidents?</h2>"
   ]
  },
  {
   "cell_type": "code",
   "execution_count": 37,
   "id": "d31bb7bb-4350-4ba6-a1ba-58334c5214b9",
   "metadata": {},
   "outputs": [
    {
     "data": {
      "text/plain": [
       "Road_Type\n",
       "Single carriageway    496663\n",
       "Dual carriageway       99424\n",
       "Roundabout             43992\n",
       "One way street         13559\n",
       "Slip road               7041\n",
       "Name: count, dtype: int64"
      ]
     },
     "execution_count": 37,
     "metadata": {},
     "output_type": "execute_result"
    }
   ],
   "source": [
    "df['Road_Type'].value_counts().head(5)\n"
   ]
  },
  {
   "cell_type": "markdown",
   "id": "c9c3efb3-7785-43f0-92de-7e4eaaa22607",
   "metadata": {},
   "source": [
    "<h2>Insight: The road type with the most accidents highlights where crashes most frequently occur, pointing to infrastructure or traffic conditions that may need closer attention for road safety improvements.</h2>"
   ]
  },
  {
   "cell_type": "markdown",
   "id": "a380493e-a956-4378-97c1-5cd0b28061f5",
   "metadata": {},
   "source": [
    "<h2>17. Do more accidents happen in urban or rural areas?</h2>"
   ]
  },
  {
   "cell_type": "code",
   "execution_count": 50,
   "id": "9847821a-0ce9-4c20-8f80-167aac3efced",
   "metadata": {},
   "outputs": [
    {
     "data": {
      "text/plain": [
       "Urban_or_Rural_Area\n",
       "Urban          421678\n",
       "Rural          238990\n",
       "Unallocated        11\n",
       "Name: count, dtype: int64"
      ]
     },
     "execution_count": 50,
     "metadata": {},
     "output_type": "execute_result"
    }
   ],
   "source": [
    "df['Urban_or_Rural_Area'].value_counts()\n",
    "\n"
   ]
  },
  {
   "cell_type": "markdown",
   "id": "2d780c7d-2ebc-4e53-8107-4e3d8ad9e47e",
   "metadata": {},
   "source": [
    "<h2>Insight: Comparing accident counts between urban and rural areas reveals whether densely populated city roads or less populated rural roads see more crashes giving important context for where road safety measures should be prioritized.</h2>"
   ]
  },
  {
   "cell_type": "markdown",
   "id": "b86b91d6-574b-4380-b07a-3ddf9ac06c11",
   "metadata": {},
   "source": [
    "<h2>18. Which area type (Urban/Rural) has higher average casualties?</h2>"
   ]
  },
  {
   "cell_type": "code",
   "execution_count": 45,
   "id": "f5d99398-c7d8-409a-8282-551b65ca6cf9",
   "metadata": {},
   "outputs": [
    {
     "data": {
      "text/plain": [
       "Urban_or_Rural_Area\n",
       "Rural          1.479204\n",
       "Urban          1.287807\n",
       "Unallocated    1.181818\n",
       "Name: Number_of_Casualties, dtype: float64"
      ]
     },
     "execution_count": 45,
     "metadata": {},
     "output_type": "execute_result"
    }
   ],
   "source": [
    "df.groupby('Urban_or_Rural_Area')['Number_of_Casualties'].mean().sort_values(ascending=False)\n"
   ]
  },
  {
   "cell_type": "markdown",
   "id": "28ec3988-98b0-40d0-9be9-2be470e77b5b",
   "metadata": {},
   "source": [
    "<h2>Insight: The area type (Urban or Rural) with the higher average casualties shows where accidents tend to be more severe on a per-incident basis, suggesting that while urban areas may have more accidents overall, rural crashes often involve more people per accident.</h2>"
   ]
  },
  {
   "cell_type": "markdown",
   "id": "78ace255-07db-4ded-ad75-e88aa6627113",
   "metadata": {},
   "source": [
    "<h2>19. Correlation between casualties and vehicles</h2>"
   ]
  },
  {
   "cell_type": "code",
   "execution_count": 48,
   "id": "c32b75e9-5dd0-4569-8da8-aa0fa9f3ea86",
   "metadata": {},
   "outputs": [
    {
     "data": {
      "text/plain": [
       "np.float64(0.2288888612692756)"
      ]
     },
     "execution_count": 48,
     "metadata": {},
     "output_type": "execute_result"
    }
   ],
   "source": [
    "corr_casualties_vehicle = df['Number_of_Casualties'].corr(df['Number_of_Vehicles'])\n",
    "corr_casualties_vehicle\n"
   ]
  },
  {
   "cell_type": "markdown",
   "id": "74c311e1-003f-4f07-abfc-dfc3d17734b9",
   "metadata": {},
   "source": [
    "<h2>Insight: The correlation value here shows the strength and direction of the relationship between the number of vehicles and the number of casualties. A strong positive correlation would mean that multi-vehicle accidents tend to produce more casualties, while a weak correlation would suggest that other factors like severity or road type play a bigger role.</h2>"
   ]
  },
  {
   "cell_type": "markdown",
   "id": "afd95730-7fa1-42c3-a18a-4c35736877d7",
   "metadata": {},
   "source": [
    "<h2>20. Correlation between vehicles and longitude</h2>"
   ]
  },
  {
   "cell_type": "code",
   "execution_count": 57,
   "id": "d0b996f6-32cd-414e-b260-7acfae95d825",
   "metadata": {},
   "outputs": [
    {
     "data": {
      "text/plain": [
       "np.float64(0.014724875829090085)"
      ]
     },
     "execution_count": 57,
     "metadata": {},
     "output_type": "execute_result"
    }
   ],
   "source": [
    "df['Number_of_Vehicles'].corr(df['Longitude'])\n"
   ]
  },
  {
   "cell_type": "markdown",
   "id": "9c6049f3-7813-40b1-8172-b6a90e24fccb",
   "metadata": {},
   "source": [
    "<h2>Insight: This checks if the number of vehicles involved in accidents has any east–west trend. A weak correlation shows distribution is fairly even across regions.</h2>"
   ]
  },
  {
   "cell_type": "markdown",
   "id": "ed58d4cb-03e8-478e-a76f-d21f65b143c3",
   "metadata": {},
   "source": [
    "<h2>21. Correlation between casualties and accident severity</h2>"
   ]
  },
  {
   "cell_type": "code",
   "execution_count": 62,
   "id": "e676c065-250e-4fb7-9536-7c1d6762a657",
   "metadata": {},
   "outputs": [
    {
     "data": {
      "text/plain": [
       "Accident_Severity\n",
       "Fatal      1.903129\n",
       "Serious    1.467280\n",
       "Slight     1.331402\n",
       "Name: Number_of_Casualties, dtype: float64"
      ]
     },
     "execution_count": 62,
     "metadata": {},
     "output_type": "execute_result"
    }
   ],
   "source": [
    "df.groupby('Accident_Severity')['Number_of_Casualties'].mean().sort_values(ascending=False)\n"
   ]
  },
  {
   "cell_type": "markdown",
   "id": "fe82064e-a3e0-4a51-ab11-8850e7787bb6",
   "metadata": {},
   "source": [
    "<h2>Insight: The grouped means directly show which severity level has higher average casualties (easy to interpret and avoids numeric encoding entirely).</h2>"
   ]
  },
  {
   "cell_type": "markdown",
   "id": "25344806-95be-479c-b5b2-3a7911a6d76a",
   "metadata": {},
   "source": [
    "<h2>22. Which district has the most fatal accidents?</h2>"
   ]
  },
  {
   "cell_type": "code",
   "execution_count": 49,
   "id": "91a2f125-a955-4d36-aa3f-30f7d9b2d7d8",
   "metadata": {},
   "outputs": [
    {
     "data": {
      "text/plain": [
       "District Area\n",
       "Birmingham                  105\n",
       "Leeds                        93\n",
       "Highland                     88\n",
       "East Riding of Yorkshire     85\n",
       "Bradford                     71\n",
       "Name: count, dtype: int64"
      ]
     },
     "execution_count": 49,
     "metadata": {},
     "output_type": "execute_result"
    }
   ],
   "source": [
    "df[df['Accident_Severity'] == 'Fatal']['District Area'].value_counts().head(5)\n"
   ]
  },
  {
   "cell_type": "markdown",
   "id": "26e114f6-03fd-487b-b1e1-c353389ea6e5",
   "metadata": {},
   "source": [
    "<h2>Insight: The district with the most fatal accidents represents the area where deadly crashes are most concentrated, signaling a high-priority zone for road safety interventions and policy focus.</h2>"
   ]
  },
  {
   "cell_type": "code",
   "execution_count": null,
   "id": "ff1e8064-446a-4bed-809c-c85c550c4fb0",
   "metadata": {},
   "outputs": [],
   "source": []
  }
 ],
 "metadata": {
  "kernelspec": {
   "display_name": "Python 3 (ipykernel)",
   "language": "python",
   "name": "python3"
  },
  "language_info": {
   "codemirror_mode": {
    "name": "ipython",
    "version": 3
   },
   "file_extension": ".py",
   "mimetype": "text/x-python",
   "name": "python",
   "nbconvert_exporter": "python",
   "pygments_lexer": "ipython3",
   "version": "3.13.5"
  }
 },
 "nbformat": 4,
 "nbformat_minor": 5
}
