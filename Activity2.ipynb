{
 "cells": [
  {
   "cell_type": "code",
   "execution_count": 1,
   "id": "26783ec2-9d55-4c5a-a617-dcb9813e5c11",
   "metadata": {},
   "outputs": [],
   "source": [
    "import pandas as pd\n",
    "import numpy  as np\n",
    "import warnings\n",
    "from scipy.stats import f_oneway\n",
    "import matplotlib.pyplot as plt\n",
    "warnings.filterwarnings('ignore')"
   ]
  },
  {
   "cell_type": "code",
   "execution_count": 2,
   "id": "0c0b3994-31b1-4f19-b23d-6d34a9e6a889",
   "metadata": {},
   "outputs": [],
   "source": [
    "df = pd.read_csv('datasets/uk_road_accident.csv')"
   ]
  },
  {
   "cell_type": "markdown",
   "id": "9e719ed0-1d5f-4b14-aacc-6ee71da04102",
   "metadata": {},
   "source": [
    "<h2>CHECK THE DATAFRAME</h2>"
   ]
  },
  {
   "cell_type": "code",
   "execution_count": 3,
   "id": "f958f5b6-1ef2-4f43-9437-1189cbb124de",
   "metadata": {},
   "outputs": [
    {
     "data": {
      "text/html": [
       "<div>\n",
       "<style scoped>\n",
       "    .dataframe tbody tr th:only-of-type {\n",
       "        vertical-align: middle;\n",
       "    }\n",
       "\n",
       "    .dataframe tbody tr th {\n",
       "        vertical-align: top;\n",
       "    }\n",
       "\n",
       "    .dataframe thead th {\n",
       "        text-align: right;\n",
       "    }\n",
       "</style>\n",
       "<table border=\"1\" class=\"dataframe\">\n",
       "  <thead>\n",
       "    <tr style=\"text-align: right;\">\n",
       "      <th></th>\n",
       "      <th>Index</th>\n",
       "      <th>Accident_Severity</th>\n",
       "      <th>Accident Date</th>\n",
       "      <th>Latitude</th>\n",
       "      <th>Light_Conditions</th>\n",
       "      <th>District Area</th>\n",
       "      <th>Longitude</th>\n",
       "      <th>Number_of_Casualties</th>\n",
       "      <th>Number_of_Vehicles</th>\n",
       "      <th>Road_Surface_Conditions</th>\n",
       "      <th>Road_Type</th>\n",
       "      <th>Urban_or_Rural_Area</th>\n",
       "      <th>Weather_Conditions</th>\n",
       "      <th>Vehicle_Type</th>\n",
       "    </tr>\n",
       "  </thead>\n",
       "  <tbody>\n",
       "    <tr>\n",
       "      <th>0</th>\n",
       "      <td>200701BS64157</td>\n",
       "      <td>Serious</td>\n",
       "      <td>5/6/2019</td>\n",
       "      <td>51.506187</td>\n",
       "      <td>Darkness - lights lit</td>\n",
       "      <td>Kensington and Chelsea</td>\n",
       "      <td>-0.209082</td>\n",
       "      <td>1</td>\n",
       "      <td>2</td>\n",
       "      <td>Dry</td>\n",
       "      <td>Single carriageway</td>\n",
       "      <td>Urban</td>\n",
       "      <td>Fine no high winds</td>\n",
       "      <td>Car</td>\n",
       "    </tr>\n",
       "    <tr>\n",
       "      <th>1</th>\n",
       "      <td>200701BS65737</td>\n",
       "      <td>Serious</td>\n",
       "      <td>2/7/2019</td>\n",
       "      <td>51.495029</td>\n",
       "      <td>Daylight</td>\n",
       "      <td>Kensington and Chelsea</td>\n",
       "      <td>-0.173647</td>\n",
       "      <td>1</td>\n",
       "      <td>2</td>\n",
       "      <td>Wet or damp</td>\n",
       "      <td>Single carriageway</td>\n",
       "      <td>Urban</td>\n",
       "      <td>Raining no high winds</td>\n",
       "      <td>Car</td>\n",
       "    </tr>\n",
       "    <tr>\n",
       "      <th>2</th>\n",
       "      <td>200701BS66127</td>\n",
       "      <td>Serious</td>\n",
       "      <td>26-08-2019</td>\n",
       "      <td>51.517715</td>\n",
       "      <td>Darkness - lighting unknown</td>\n",
       "      <td>Kensington and Chelsea</td>\n",
       "      <td>-0.210215</td>\n",
       "      <td>1</td>\n",
       "      <td>3</td>\n",
       "      <td>Dry</td>\n",
       "      <td>NaN</td>\n",
       "      <td>Urban</td>\n",
       "      <td>NaN</td>\n",
       "      <td>Taxi/Private hire car</td>\n",
       "    </tr>\n",
       "    <tr>\n",
       "      <th>3</th>\n",
       "      <td>200701BS66128</td>\n",
       "      <td>Serious</td>\n",
       "      <td>16-08-2019</td>\n",
       "      <td>51.495478</td>\n",
       "      <td>Daylight</td>\n",
       "      <td>Kensington and Chelsea</td>\n",
       "      <td>-0.202731</td>\n",
       "      <td>1</td>\n",
       "      <td>4</td>\n",
       "      <td>Dry</td>\n",
       "      <td>Single carriageway</td>\n",
       "      <td>Urban</td>\n",
       "      <td>Fine no high winds</td>\n",
       "      <td>Bus or coach (17 or more pass seats)</td>\n",
       "    </tr>\n",
       "    <tr>\n",
       "      <th>4</th>\n",
       "      <td>200701BS66837</td>\n",
       "      <td>Slight</td>\n",
       "      <td>3/9/2019</td>\n",
       "      <td>51.488576</td>\n",
       "      <td>Darkness - lights lit</td>\n",
       "      <td>Kensington and Chelsea</td>\n",
       "      <td>-0.192487</td>\n",
       "      <td>1</td>\n",
       "      <td>2</td>\n",
       "      <td>Dry</td>\n",
       "      <td>NaN</td>\n",
       "      <td>Urban</td>\n",
       "      <td>NaN</td>\n",
       "      <td>Other vehicle</td>\n",
       "    </tr>\n",
       "    <tr>\n",
       "      <th>...</th>\n",
       "      <td>...</td>\n",
       "      <td>...</td>\n",
       "      <td>...</td>\n",
       "      <td>...</td>\n",
       "      <td>...</td>\n",
       "      <td>...</td>\n",
       "      <td>...</td>\n",
       "      <td>...</td>\n",
       "      <td>...</td>\n",
       "      <td>...</td>\n",
       "      <td>...</td>\n",
       "      <td>...</td>\n",
       "      <td>...</td>\n",
       "      <td>...</td>\n",
       "    </tr>\n",
       "    <tr>\n",
       "      <th>660674</th>\n",
       "      <td>201091NM01760</td>\n",
       "      <td>Slight</td>\n",
       "      <td>18-02-2022</td>\n",
       "      <td>57.374005</td>\n",
       "      <td>Daylight</td>\n",
       "      <td>Highland</td>\n",
       "      <td>-3.467828</td>\n",
       "      <td>2</td>\n",
       "      <td>1</td>\n",
       "      <td>Dry</td>\n",
       "      <td>Single carriageway</td>\n",
       "      <td>Rural</td>\n",
       "      <td>Fine no high winds</td>\n",
       "      <td>Car</td>\n",
       "    </tr>\n",
       "    <tr>\n",
       "      <th>660675</th>\n",
       "      <td>201091NM01881</td>\n",
       "      <td>Slight</td>\n",
       "      <td>21-02-2022</td>\n",
       "      <td>57.232273</td>\n",
       "      <td>Darkness - no lighting</td>\n",
       "      <td>Highland</td>\n",
       "      <td>-3.809281</td>\n",
       "      <td>1</td>\n",
       "      <td>1</td>\n",
       "      <td>Frost or ice</td>\n",
       "      <td>Single carriageway</td>\n",
       "      <td>Rural</td>\n",
       "      <td>Fine no high winds</td>\n",
       "      <td>Car</td>\n",
       "    </tr>\n",
       "    <tr>\n",
       "      <th>660676</th>\n",
       "      <td>201091NM01935</td>\n",
       "      <td>Slight</td>\n",
       "      <td>23-02-2022</td>\n",
       "      <td>57.585044</td>\n",
       "      <td>Daylight</td>\n",
       "      <td>Highland</td>\n",
       "      <td>-3.862727</td>\n",
       "      <td>1</td>\n",
       "      <td>3</td>\n",
       "      <td>Frost or ice</td>\n",
       "      <td>Single carriageway</td>\n",
       "      <td>Rural</td>\n",
       "      <td>Fine no high winds</td>\n",
       "      <td>Car</td>\n",
       "    </tr>\n",
       "    <tr>\n",
       "      <th>660677</th>\n",
       "      <td>201091NM01964</td>\n",
       "      <td>Serious</td>\n",
       "      <td>23-02-2022</td>\n",
       "      <td>57.214898</td>\n",
       "      <td>Darkness - no lighting</td>\n",
       "      <td>Highland</td>\n",
       "      <td>-3.823997</td>\n",
       "      <td>1</td>\n",
       "      <td>2</td>\n",
       "      <td>Wet or damp</td>\n",
       "      <td>Single carriageway</td>\n",
       "      <td>Rural</td>\n",
       "      <td>Fine no high winds</td>\n",
       "      <td>Motorcycle over 500cc</td>\n",
       "    </tr>\n",
       "    <tr>\n",
       "      <th>660678</th>\n",
       "      <td>201091NM02142</td>\n",
       "      <td>Serious</td>\n",
       "      <td>28-02-2022</td>\n",
       "      <td>57.575210</td>\n",
       "      <td>Daylight</td>\n",
       "      <td>Highland</td>\n",
       "      <td>-3.895673</td>\n",
       "      <td>1</td>\n",
       "      <td>1</td>\n",
       "      <td>Wet or damp</td>\n",
       "      <td>Dual carriageway</td>\n",
       "      <td>Rural</td>\n",
       "      <td>Snowing no high winds</td>\n",
       "      <td>Car</td>\n",
       "    </tr>\n",
       "  </tbody>\n",
       "</table>\n",
       "<p>660679 rows × 14 columns</p>\n",
       "</div>"
      ],
      "text/plain": [
       "                Index Accident_Severity Accident Date   Latitude  \\\n",
       "0       200701BS64157           Serious      5/6/2019  51.506187   \n",
       "1       200701BS65737           Serious      2/7/2019  51.495029   \n",
       "2       200701BS66127           Serious    26-08-2019  51.517715   \n",
       "3       200701BS66128           Serious    16-08-2019  51.495478   \n",
       "4       200701BS66837            Slight      3/9/2019  51.488576   \n",
       "...               ...               ...           ...        ...   \n",
       "660674  201091NM01760            Slight    18-02-2022  57.374005   \n",
       "660675  201091NM01881            Slight    21-02-2022  57.232273   \n",
       "660676  201091NM01935            Slight    23-02-2022  57.585044   \n",
       "660677  201091NM01964           Serious    23-02-2022  57.214898   \n",
       "660678  201091NM02142           Serious    28-02-2022  57.575210   \n",
       "\n",
       "                   Light_Conditions           District Area  Longitude  \\\n",
       "0             Darkness - lights lit  Kensington and Chelsea  -0.209082   \n",
       "1                          Daylight  Kensington and Chelsea  -0.173647   \n",
       "2       Darkness - lighting unknown  Kensington and Chelsea  -0.210215   \n",
       "3                          Daylight  Kensington and Chelsea  -0.202731   \n",
       "4             Darkness - lights lit  Kensington and Chelsea  -0.192487   \n",
       "...                             ...                     ...        ...   \n",
       "660674                     Daylight                Highland  -3.467828   \n",
       "660675       Darkness - no lighting                Highland  -3.809281   \n",
       "660676                     Daylight                Highland  -3.862727   \n",
       "660677       Darkness - no lighting                Highland  -3.823997   \n",
       "660678                     Daylight                Highland  -3.895673   \n",
       "\n",
       "        Number_of_Casualties  Number_of_Vehicles Road_Surface_Conditions  \\\n",
       "0                          1                   2                     Dry   \n",
       "1                          1                   2             Wet or damp   \n",
       "2                          1                   3                     Dry   \n",
       "3                          1                   4                     Dry   \n",
       "4                          1                   2                     Dry   \n",
       "...                      ...                 ...                     ...   \n",
       "660674                     2                   1                     Dry   \n",
       "660675                     1                   1            Frost or ice   \n",
       "660676                     1                   3            Frost or ice   \n",
       "660677                     1                   2             Wet or damp   \n",
       "660678                     1                   1             Wet or damp   \n",
       "\n",
       "                 Road_Type Urban_or_Rural_Area     Weather_Conditions  \\\n",
       "0       Single carriageway               Urban     Fine no high winds   \n",
       "1       Single carriageway               Urban  Raining no high winds   \n",
       "2                      NaN               Urban                    NaN   \n",
       "3       Single carriageway               Urban     Fine no high winds   \n",
       "4                      NaN               Urban                    NaN   \n",
       "...                    ...                 ...                    ...   \n",
       "660674  Single carriageway               Rural     Fine no high winds   \n",
       "660675  Single carriageway               Rural     Fine no high winds   \n",
       "660676  Single carriageway               Rural     Fine no high winds   \n",
       "660677  Single carriageway               Rural     Fine no high winds   \n",
       "660678    Dual carriageway               Rural  Snowing no high winds   \n",
       "\n",
       "                                Vehicle_Type  \n",
       "0                                        Car  \n",
       "1                                        Car  \n",
       "2                      Taxi/Private hire car  \n",
       "3       Bus or coach (17 or more pass seats)  \n",
       "4                              Other vehicle  \n",
       "...                                      ...  \n",
       "660674                                   Car  \n",
       "660675                                   Car  \n",
       "660676                                   Car  \n",
       "660677                 Motorcycle over 500cc  \n",
       "660678                                   Car  \n",
       "\n",
       "[660679 rows x 14 columns]"
      ]
     },
     "execution_count": 3,
     "metadata": {},
     "output_type": "execute_result"
    }
   ],
   "source": [
    "df"
   ]
  },
  {
   "cell_type": "code",
   "execution_count": 4,
   "id": "d4659d87-c377-41b7-ba09-39fba7cfcb1e",
   "metadata": {},
   "outputs": [
    {
     "name": "stdout",
     "output_type": "stream",
     "text": [
      "<class 'pandas.core.frame.DataFrame'>\n",
      "RangeIndex: 660679 entries, 0 to 660678\n",
      "Data columns (total 14 columns):\n",
      " #   Column                   Non-Null Count   Dtype  \n",
      "---  ------                   --------------   -----  \n",
      " 0   Index                    660679 non-null  object \n",
      " 1   Accident_Severity        660679 non-null  object \n",
      " 2   Accident Date            660679 non-null  object \n",
      " 3   Latitude                 660654 non-null  float64\n",
      " 4   Light_Conditions         660679 non-null  object \n",
      " 5   District Area            660679 non-null  object \n",
      " 6   Longitude                660653 non-null  float64\n",
      " 7   Number_of_Casualties     660679 non-null  int64  \n",
      " 8   Number_of_Vehicles       660679 non-null  int64  \n",
      " 9   Road_Surface_Conditions  659953 non-null  object \n",
      " 10  Road_Type                656159 non-null  object \n",
      " 11  Urban_or_Rural_Area      660664 non-null  object \n",
      " 12  Weather_Conditions       646551 non-null  object \n",
      " 13  Vehicle_Type             660679 non-null  object \n",
      "dtypes: float64(2), int64(2), object(10)\n",
      "memory usage: 70.6+ MB\n"
     ]
    }
   ],
   "source": [
    "df.info()"
   ]
  },
  {
   "cell_type": "code",
   "execution_count": 5,
   "id": "b4eddfee-446c-4859-958f-19647ca1b4e5",
   "metadata": {},
   "outputs": [],
   "source": [
    "df['Accident Date'] = df['Accident Date'].astype('str')\n",
    "df['Accident Date'] = df['Accident Date'].str.strip()\n",
    "df['Accident Date'] = df['Accident Date'].str.replace('/', '-')\n",
    "df['Accident Date'] = pd.to_datetime(df['Accident Date'], dayfirst=True, errors='coerce')"
   ]
  },
  {
   "cell_type": "code",
   "execution_count": 6,
   "id": "095062d6-817e-4e01-b5fc-604bb8a958e9",
   "metadata": {},
   "outputs": [],
   "source": [
    "df['Year'] = df['Accident Date'].dt.year\n",
    "df['Month_Number'] = df['Accident Date'].dt.month\n",
    "df['Month'] = df['Accident Date'].dt.month_name()\n",
    "df['Day'] = df['Accident Date'].dt.day\n",
    "df['DayofWeek'] = df['Accident Date'].dt.dayofweek"
   ]
  },
  {
   "cell_type": "code",
   "execution_count": 7,
   "id": "47d9ad0e-a9e0-4d9f-b9cb-572eaac722fb",
   "metadata": {},
   "outputs": [],
   "source": [
    "df['Index'] = df['Index'].astype('category') \n",
    "df['Accident_Severity'] = df['Accident_Severity'].astype('category')\n",
    "df['Light_Conditions'] = df['Light_Conditions'].astype('category')\n",
    "df['District Area'] = df['District Area'].astype('category')\n",
    "df['Road_Surface_Conditions'] = df['Road_Surface_Conditions'].astype('category') \n",
    "df['Road_Type'] = df['Road_Type'].astype('category') \n",
    "df['Urban_or_Rural_Area'] = df['Urban_or_Rural_Area'].astype('category') \n",
    "df['Weather_Conditions'] = df['Weather_Conditions'].astype('category') \n",
    "df['Vehicle_Type'] = df['Vehicle_Type'].astype('category')\n",
    "df['Month'] = df['Month'].astype('category')\n",
    "df['Year'] = df['Year'].astype('category')"
   ]
  },
  {
   "cell_type": "code",
   "execution_count": 8,
   "id": "9e6d5ab5-124e-49c7-bece-cb89db07bbd5",
   "metadata": {},
   "outputs": [
    {
     "name": "stdout",
     "output_type": "stream",
     "text": [
      "<class 'pandas.core.frame.DataFrame'>\n",
      "RangeIndex: 660679 entries, 0 to 660678\n",
      "Data columns (total 19 columns):\n",
      " #   Column                   Non-Null Count   Dtype         \n",
      "---  ------                   --------------   -----         \n",
      " 0   Index                    660679 non-null  category      \n",
      " 1   Accident_Severity        660679 non-null  category      \n",
      " 2   Accident Date            660679 non-null  datetime64[ns]\n",
      " 3   Latitude                 660654 non-null  float64       \n",
      " 4   Light_Conditions         660679 non-null  category      \n",
      " 5   District Area            660679 non-null  category      \n",
      " 6   Longitude                660653 non-null  float64       \n",
      " 7   Number_of_Casualties     660679 non-null  int64         \n",
      " 8   Number_of_Vehicles       660679 non-null  int64         \n",
      " 9   Road_Surface_Conditions  659953 non-null  category      \n",
      " 10  Road_Type                656159 non-null  category      \n",
      " 11  Urban_or_Rural_Area      660664 non-null  category      \n",
      " 12  Weather_Conditions       646551 non-null  category      \n",
      " 13  Vehicle_Type             660679 non-null  category      \n",
      " 14  Year                     660679 non-null  category      \n",
      " 15  Month_Number             660679 non-null  int32         \n",
      " 16  Month                    660679 non-null  category      \n",
      " 17  Day                      660679 non-null  int32         \n",
      " 18  DayofWeek                660679 non-null  int32         \n",
      "dtypes: category(11), datetime64[ns](1), float64(2), int32(3), int64(2)\n",
      "memory usage: 61.6 MB\n"
     ]
    }
   ],
   "source": [
    "df.info()"
   ]
  },
  {
   "cell_type": "markdown",
   "id": "2d4b25d5-24fb-48e8-bdb5-83cd16a8e14f",
   "metadata": {},
   "source": [
    "<h2>Check if there are Null Value</h2>"
   ]
  },
  {
   "cell_type": "code",
   "execution_count": 9,
   "id": "bea1e354-0695-4a3e-8112-01f077d5d50f",
   "metadata": {},
   "outputs": [
    {
     "data": {
      "text/plain": [
       "Index                          0\n",
       "Accident_Severity              0\n",
       "Accident Date                  0\n",
       "Latitude                      25\n",
       "Light_Conditions               0\n",
       "District Area                  0\n",
       "Longitude                     26\n",
       "Number_of_Casualties           0\n",
       "Number_of_Vehicles             0\n",
       "Road_Surface_Conditions      726\n",
       "Road_Type                   4520\n",
       "Urban_or_Rural_Area           15\n",
       "Weather_Conditions         14128\n",
       "Vehicle_Type                   0\n",
       "Year                           0\n",
       "Month_Number                   0\n",
       "Month                          0\n",
       "Day                            0\n",
       "DayofWeek                      0\n",
       "dtype: int64"
      ]
     },
     "execution_count": 9,
     "metadata": {},
     "output_type": "execute_result"
    }
   ],
   "source": [
    "df.isnull().sum()"
   ]
  },
  {
   "cell_type": "markdown",
   "id": "7961f8fa-51df-46a0-aaae-8362d908bebb",
   "metadata": {},
   "source": [
    "<h2>Clean the dataset</h2>"
   ]
  },
  {
   "cell_type": "code",
   "execution_count": 10,
   "id": "22917ef7-949e-4284-b949-59d5b5ec5735",
   "metadata": {},
   "outputs": [],
   "source": [
    "df['Latitude'] = df['Latitude'].fillna(df['Latitude'].mean())\n",
    "df['Longitude'] = df['Longitude'].fillna(df['Longitude'].mean())\n",
    "df['Road_Surface_Conditions'] = df['Road_Surface_Conditions'].fillna(df['Road_Surface_Conditions'].mode()[0])\n",
    "df['Road_Type'] = df['Road_Type'].fillna(df['Road_Type'].mode()[0])\n",
    "df['Urban_or_Rural_Area'] = df['Urban_or_Rural_Area'].fillna(df['Urban_or_Rural_Area'].mode()[0])\n",
    "df['Weather_Conditions'] = df['Weather_Conditions'].fillna(df['Weather_Conditions'].mode()[0])"
   ]
  },
  {
   "cell_type": "code",
   "execution_count": 11,
   "id": "afb1967d-bd19-45b9-8409-41e5cfeaf628",
   "metadata": {
    "scrolled": true
   },
   "outputs": [
    {
     "data": {
      "text/plain": [
       "Index                      0\n",
       "Accident_Severity          0\n",
       "Accident Date              0\n",
       "Latitude                   0\n",
       "Light_Conditions           0\n",
       "District Area              0\n",
       "Longitude                  0\n",
       "Number_of_Casualties       0\n",
       "Number_of_Vehicles         0\n",
       "Road_Surface_Conditions    0\n",
       "Road_Type                  0\n",
       "Urban_or_Rural_Area        0\n",
       "Weather_Conditions         0\n",
       "Vehicle_Type               0\n",
       "Year                       0\n",
       "Month_Number               0\n",
       "Month                      0\n",
       "Day                        0\n",
       "DayofWeek                  0\n",
       "dtype: int64"
      ]
     },
     "execution_count": 11,
     "metadata": {},
     "output_type": "execute_result"
    }
   ],
   "source": [
    "df.isnull().sum()"
   ]
  },
  {
   "cell_type": "code",
   "execution_count": 12,
   "id": "6e2d376c-4550-4e0a-aa07-5fd25eedb405",
   "metadata": {},
   "outputs": [
    {
     "data": {
      "text/html": [
       "<div>\n",
       "<style scoped>\n",
       "    .dataframe tbody tr th:only-of-type {\n",
       "        vertical-align: middle;\n",
       "    }\n",
       "\n",
       "    .dataframe tbody tr th {\n",
       "        vertical-align: top;\n",
       "    }\n",
       "\n",
       "    .dataframe thead th {\n",
       "        text-align: right;\n",
       "    }\n",
       "</style>\n",
       "<table border=\"1\" class=\"dataframe\">\n",
       "  <thead>\n",
       "    <tr style=\"text-align: right;\">\n",
       "      <th></th>\n",
       "      <th>Index</th>\n",
       "      <th>Accident_Severity</th>\n",
       "      <th>Accident Date</th>\n",
       "      <th>Latitude</th>\n",
       "      <th>Light_Conditions</th>\n",
       "      <th>District Area</th>\n",
       "      <th>Longitude</th>\n",
       "      <th>Number_of_Casualties</th>\n",
       "      <th>Number_of_Vehicles</th>\n",
       "      <th>Road_Surface_Conditions</th>\n",
       "      <th>Road_Type</th>\n",
       "      <th>Urban_or_Rural_Area</th>\n",
       "      <th>Weather_Conditions</th>\n",
       "      <th>Vehicle_Type</th>\n",
       "      <th>Year</th>\n",
       "      <th>Month_Number</th>\n",
       "      <th>Month</th>\n",
       "      <th>Day</th>\n",
       "      <th>DayofWeek</th>\n",
       "    </tr>\n",
       "  </thead>\n",
       "  <tbody>\n",
       "    <tr>\n",
       "      <th>0</th>\n",
       "      <td>200701BS64157</td>\n",
       "      <td>Serious</td>\n",
       "      <td>2019-06-05</td>\n",
       "      <td>51.506187</td>\n",
       "      <td>Darkness - lights lit</td>\n",
       "      <td>Kensington and Chelsea</td>\n",
       "      <td>-0.209082</td>\n",
       "      <td>1</td>\n",
       "      <td>2</td>\n",
       "      <td>Dry</td>\n",
       "      <td>Single carriageway</td>\n",
       "      <td>Urban</td>\n",
       "      <td>Fine no high winds</td>\n",
       "      <td>Car</td>\n",
       "      <td>2019</td>\n",
       "      <td>6</td>\n",
       "      <td>June</td>\n",
       "      <td>5</td>\n",
       "      <td>2</td>\n",
       "    </tr>\n",
       "    <tr>\n",
       "      <th>1</th>\n",
       "      <td>200701BS65737</td>\n",
       "      <td>Serious</td>\n",
       "      <td>2019-07-02</td>\n",
       "      <td>51.495029</td>\n",
       "      <td>Daylight</td>\n",
       "      <td>Kensington and Chelsea</td>\n",
       "      <td>-0.173647</td>\n",
       "      <td>1</td>\n",
       "      <td>2</td>\n",
       "      <td>Wet or damp</td>\n",
       "      <td>Single carriageway</td>\n",
       "      <td>Urban</td>\n",
       "      <td>Raining no high winds</td>\n",
       "      <td>Car</td>\n",
       "      <td>2019</td>\n",
       "      <td>7</td>\n",
       "      <td>July</td>\n",
       "      <td>2</td>\n",
       "      <td>1</td>\n",
       "    </tr>\n",
       "    <tr>\n",
       "      <th>2</th>\n",
       "      <td>200701BS66127</td>\n",
       "      <td>Serious</td>\n",
       "      <td>2019-08-26</td>\n",
       "      <td>51.517715</td>\n",
       "      <td>Darkness - lighting unknown</td>\n",
       "      <td>Kensington and Chelsea</td>\n",
       "      <td>-0.210215</td>\n",
       "      <td>1</td>\n",
       "      <td>3</td>\n",
       "      <td>Dry</td>\n",
       "      <td>Single carriageway</td>\n",
       "      <td>Urban</td>\n",
       "      <td>Fine no high winds</td>\n",
       "      <td>Taxi/Private hire car</td>\n",
       "      <td>2019</td>\n",
       "      <td>8</td>\n",
       "      <td>August</td>\n",
       "      <td>26</td>\n",
       "      <td>0</td>\n",
       "    </tr>\n",
       "    <tr>\n",
       "      <th>3</th>\n",
       "      <td>200701BS66128</td>\n",
       "      <td>Serious</td>\n",
       "      <td>2019-08-16</td>\n",
       "      <td>51.495478</td>\n",
       "      <td>Daylight</td>\n",
       "      <td>Kensington and Chelsea</td>\n",
       "      <td>-0.202731</td>\n",
       "      <td>1</td>\n",
       "      <td>4</td>\n",
       "      <td>Dry</td>\n",
       "      <td>Single carriageway</td>\n",
       "      <td>Urban</td>\n",
       "      <td>Fine no high winds</td>\n",
       "      <td>Bus or coach (17 or more pass seats)</td>\n",
       "      <td>2019</td>\n",
       "      <td>8</td>\n",
       "      <td>August</td>\n",
       "      <td>16</td>\n",
       "      <td>4</td>\n",
       "    </tr>\n",
       "    <tr>\n",
       "      <th>4</th>\n",
       "      <td>200701BS66837</td>\n",
       "      <td>Slight</td>\n",
       "      <td>2019-09-03</td>\n",
       "      <td>51.488576</td>\n",
       "      <td>Darkness - lights lit</td>\n",
       "      <td>Kensington and Chelsea</td>\n",
       "      <td>-0.192487</td>\n",
       "      <td>1</td>\n",
       "      <td>2</td>\n",
       "      <td>Dry</td>\n",
       "      <td>Single carriageway</td>\n",
       "      <td>Urban</td>\n",
       "      <td>Fine no high winds</td>\n",
       "      <td>Other vehicle</td>\n",
       "      <td>2019</td>\n",
       "      <td>9</td>\n",
       "      <td>September</td>\n",
       "      <td>3</td>\n",
       "      <td>1</td>\n",
       "    </tr>\n",
       "    <tr>\n",
       "      <th>...</th>\n",
       "      <td>...</td>\n",
       "      <td>...</td>\n",
       "      <td>...</td>\n",
       "      <td>...</td>\n",
       "      <td>...</td>\n",
       "      <td>...</td>\n",
       "      <td>...</td>\n",
       "      <td>...</td>\n",
       "      <td>...</td>\n",
       "      <td>...</td>\n",
       "      <td>...</td>\n",
       "      <td>...</td>\n",
       "      <td>...</td>\n",
       "      <td>...</td>\n",
       "      <td>...</td>\n",
       "      <td>...</td>\n",
       "      <td>...</td>\n",
       "      <td>...</td>\n",
       "      <td>...</td>\n",
       "    </tr>\n",
       "    <tr>\n",
       "      <th>660674</th>\n",
       "      <td>201091NM01760</td>\n",
       "      <td>Slight</td>\n",
       "      <td>2022-02-18</td>\n",
       "      <td>57.374005</td>\n",
       "      <td>Daylight</td>\n",
       "      <td>Highland</td>\n",
       "      <td>-3.467828</td>\n",
       "      <td>2</td>\n",
       "      <td>1</td>\n",
       "      <td>Dry</td>\n",
       "      <td>Single carriageway</td>\n",
       "      <td>Rural</td>\n",
       "      <td>Fine no high winds</td>\n",
       "      <td>Car</td>\n",
       "      <td>2022</td>\n",
       "      <td>2</td>\n",
       "      <td>February</td>\n",
       "      <td>18</td>\n",
       "      <td>4</td>\n",
       "    </tr>\n",
       "    <tr>\n",
       "      <th>660675</th>\n",
       "      <td>201091NM01881</td>\n",
       "      <td>Slight</td>\n",
       "      <td>2022-02-21</td>\n",
       "      <td>57.232273</td>\n",
       "      <td>Darkness - no lighting</td>\n",
       "      <td>Highland</td>\n",
       "      <td>-3.809281</td>\n",
       "      <td>1</td>\n",
       "      <td>1</td>\n",
       "      <td>Frost or ice</td>\n",
       "      <td>Single carriageway</td>\n",
       "      <td>Rural</td>\n",
       "      <td>Fine no high winds</td>\n",
       "      <td>Car</td>\n",
       "      <td>2022</td>\n",
       "      <td>2</td>\n",
       "      <td>February</td>\n",
       "      <td>21</td>\n",
       "      <td>0</td>\n",
       "    </tr>\n",
       "    <tr>\n",
       "      <th>660676</th>\n",
       "      <td>201091NM01935</td>\n",
       "      <td>Slight</td>\n",
       "      <td>2022-02-23</td>\n",
       "      <td>57.585044</td>\n",
       "      <td>Daylight</td>\n",
       "      <td>Highland</td>\n",
       "      <td>-3.862727</td>\n",
       "      <td>1</td>\n",
       "      <td>3</td>\n",
       "      <td>Frost or ice</td>\n",
       "      <td>Single carriageway</td>\n",
       "      <td>Rural</td>\n",
       "      <td>Fine no high winds</td>\n",
       "      <td>Car</td>\n",
       "      <td>2022</td>\n",
       "      <td>2</td>\n",
       "      <td>February</td>\n",
       "      <td>23</td>\n",
       "      <td>2</td>\n",
       "    </tr>\n",
       "    <tr>\n",
       "      <th>660677</th>\n",
       "      <td>201091NM01964</td>\n",
       "      <td>Serious</td>\n",
       "      <td>2022-02-23</td>\n",
       "      <td>57.214898</td>\n",
       "      <td>Darkness - no lighting</td>\n",
       "      <td>Highland</td>\n",
       "      <td>-3.823997</td>\n",
       "      <td>1</td>\n",
       "      <td>2</td>\n",
       "      <td>Wet or damp</td>\n",
       "      <td>Single carriageway</td>\n",
       "      <td>Rural</td>\n",
       "      <td>Fine no high winds</td>\n",
       "      <td>Motorcycle over 500cc</td>\n",
       "      <td>2022</td>\n",
       "      <td>2</td>\n",
       "      <td>February</td>\n",
       "      <td>23</td>\n",
       "      <td>2</td>\n",
       "    </tr>\n",
       "    <tr>\n",
       "      <th>660678</th>\n",
       "      <td>201091NM02142</td>\n",
       "      <td>Serious</td>\n",
       "      <td>2022-02-28</td>\n",
       "      <td>57.575210</td>\n",
       "      <td>Daylight</td>\n",
       "      <td>Highland</td>\n",
       "      <td>-3.895673</td>\n",
       "      <td>1</td>\n",
       "      <td>1</td>\n",
       "      <td>Wet or damp</td>\n",
       "      <td>Dual carriageway</td>\n",
       "      <td>Rural</td>\n",
       "      <td>Snowing no high winds</td>\n",
       "      <td>Car</td>\n",
       "      <td>2022</td>\n",
       "      <td>2</td>\n",
       "      <td>February</td>\n",
       "      <td>28</td>\n",
       "      <td>0</td>\n",
       "    </tr>\n",
       "  </tbody>\n",
       "</table>\n",
       "<p>660679 rows × 19 columns</p>\n",
       "</div>"
      ],
      "text/plain": [
       "                Index Accident_Severity Accident Date   Latitude  \\\n",
       "0       200701BS64157           Serious    2019-06-05  51.506187   \n",
       "1       200701BS65737           Serious    2019-07-02  51.495029   \n",
       "2       200701BS66127           Serious    2019-08-26  51.517715   \n",
       "3       200701BS66128           Serious    2019-08-16  51.495478   \n",
       "4       200701BS66837            Slight    2019-09-03  51.488576   \n",
       "...               ...               ...           ...        ...   \n",
       "660674  201091NM01760            Slight    2022-02-18  57.374005   \n",
       "660675  201091NM01881            Slight    2022-02-21  57.232273   \n",
       "660676  201091NM01935            Slight    2022-02-23  57.585044   \n",
       "660677  201091NM01964           Serious    2022-02-23  57.214898   \n",
       "660678  201091NM02142           Serious    2022-02-28  57.575210   \n",
       "\n",
       "                   Light_Conditions           District Area  Longitude  \\\n",
       "0             Darkness - lights lit  Kensington and Chelsea  -0.209082   \n",
       "1                          Daylight  Kensington and Chelsea  -0.173647   \n",
       "2       Darkness - lighting unknown  Kensington and Chelsea  -0.210215   \n",
       "3                          Daylight  Kensington and Chelsea  -0.202731   \n",
       "4             Darkness - lights lit  Kensington and Chelsea  -0.192487   \n",
       "...                             ...                     ...        ...   \n",
       "660674                     Daylight                Highland  -3.467828   \n",
       "660675       Darkness - no lighting                Highland  -3.809281   \n",
       "660676                     Daylight                Highland  -3.862727   \n",
       "660677       Darkness - no lighting                Highland  -3.823997   \n",
       "660678                     Daylight                Highland  -3.895673   \n",
       "\n",
       "        Number_of_Casualties  Number_of_Vehicles Road_Surface_Conditions  \\\n",
       "0                          1                   2                     Dry   \n",
       "1                          1                   2             Wet or damp   \n",
       "2                          1                   3                     Dry   \n",
       "3                          1                   4                     Dry   \n",
       "4                          1                   2                     Dry   \n",
       "...                      ...                 ...                     ...   \n",
       "660674                     2                   1                     Dry   \n",
       "660675                     1                   1            Frost or ice   \n",
       "660676                     1                   3            Frost or ice   \n",
       "660677                     1                   2             Wet or damp   \n",
       "660678                     1                   1             Wet or damp   \n",
       "\n",
       "                 Road_Type Urban_or_Rural_Area     Weather_Conditions  \\\n",
       "0       Single carriageway               Urban     Fine no high winds   \n",
       "1       Single carriageway               Urban  Raining no high winds   \n",
       "2       Single carriageway               Urban     Fine no high winds   \n",
       "3       Single carriageway               Urban     Fine no high winds   \n",
       "4       Single carriageway               Urban     Fine no high winds   \n",
       "...                    ...                 ...                    ...   \n",
       "660674  Single carriageway               Rural     Fine no high winds   \n",
       "660675  Single carriageway               Rural     Fine no high winds   \n",
       "660676  Single carriageway               Rural     Fine no high winds   \n",
       "660677  Single carriageway               Rural     Fine no high winds   \n",
       "660678    Dual carriageway               Rural  Snowing no high winds   \n",
       "\n",
       "                                Vehicle_Type  Year  Month_Number      Month  \\\n",
       "0                                        Car  2019             6       June   \n",
       "1                                        Car  2019             7       July   \n",
       "2                      Taxi/Private hire car  2019             8     August   \n",
       "3       Bus or coach (17 or more pass seats)  2019             8     August   \n",
       "4                              Other vehicle  2019             9  September   \n",
       "...                                      ...   ...           ...        ...   \n",
       "660674                                   Car  2022             2   February   \n",
       "660675                                   Car  2022             2   February   \n",
       "660676                                   Car  2022             2   February   \n",
       "660677                 Motorcycle over 500cc  2022             2   February   \n",
       "660678                                   Car  2022             2   February   \n",
       "\n",
       "        Day  DayofWeek  \n",
       "0         5          2  \n",
       "1         2          1  \n",
       "2        26          0  \n",
       "3        16          4  \n",
       "4         3          1  \n",
       "...     ...        ...  \n",
       "660674   18          4  \n",
       "660675   21          0  \n",
       "660676   23          2  \n",
       "660677   23          2  \n",
       "660678   28          0  \n",
       "\n",
       "[660679 rows x 19 columns]"
      ]
     },
     "execution_count": 12,
     "metadata": {},
     "output_type": "execute_result"
    }
   ],
   "source": [
    "df"
   ]
  },
  {
   "cell_type": "markdown",
   "id": "09142fe0-63ee-48a4-8f74-455065a2ffda",
   "metadata": {},
   "source": [
    "<h2>20 Question with Insights</h2>"
   ]
  },
  {
   "cell_type": "markdown",
   "id": "5adb333a-5b0f-4fe8-bca8-2037b67dc8fe",
   "metadata": {},
   "source": [
    "<h2>1. Which accident severity occurs most often?</h2>"
   ]
  },
  {
   "cell_type": "code",
   "execution_count": 13,
   "id": "1980e023-e9c7-456a-badd-d45fc41110b9",
   "metadata": {},
   "outputs": [
    {
     "data": {
      "text/plain": [
       "Accident_Severity\n",
       "Slight     563801\n",
       "Serious     88217\n",
       "Fatal        8661\n",
       "Name: count, dtype: int64"
      ]
     },
     "execution_count": 13,
     "metadata": {},
     "output_type": "execute_result"
    }
   ],
   "source": [
    "df['Accident_Severity'].value_counts()\n"
   ]
  },
  {
   "cell_type": "markdown",
   "id": "3d045c15-ab72-401b-a0e7-58aa0b62d34d",
   "metadata": {},
   "source": [
    "<H2>Insight: \"Slight\" accidents are the most common, followed by \"Serious\" and \"Fatal\".</H2>"
   ]
  },
  {
   "cell_type": "markdown",
   "id": "4b72e797-bc22-4ff8-ad1e-303aeb4a7429",
   "metadata": {},
   "source": [
    "<h2>2. Which district reports the most accidents?</h2>"
   ]
  },
  {
   "cell_type": "code",
   "execution_count": 14,
   "id": "2240d16b-d863-49f1-8068-bc9cb14b454f",
   "metadata": {},
   "outputs": [
    {
     "data": {
      "text/plain": [
       "District Area\n",
       "Birmingham                  105\n",
       "Leeds                        93\n",
       "Highland                     88\n",
       "East Riding of Yorkshire     85\n",
       "Bradford                     71\n",
       "                           ... \n",
       "Orkney Islands                2\n",
       "Havant                        2\n",
       "Stevenage                     1\n",
       "Clackmannanshire              1\n",
       "Harlow                        1\n",
       "Name: count, Length: 422, dtype: int64"
      ]
     },
     "execution_count": 14,
     "metadata": {},
     "output_type": "execute_result"
    }
   ],
   "source": [
    "df[df['Accident_Severity'] == 'Fatal']['District Area'].value_counts()"
   ]
  },
  {
   "cell_type": "markdown",
   "id": "eef44ec6-063c-45a4-9dfa-ecd6318f8667",
   "metadata": {},
   "source": [
    "<h2>Insight: The busiest district has the highest accident count, showing a hotspot of risk.</h2>"
   ]
  },
  {
   "cell_type": "markdown",
   "id": "630e0d02-e04e-485f-bebc-22b27703eab1",
   "metadata": {},
   "source": [
    "<h2>3. What is the most common light condition in accidents?</h2>"
   ]
  },
  {
   "cell_type": "code",
   "execution_count": 15,
   "id": "d1eb0296-e0e9-4b57-9130-70619ec4fdba",
   "metadata": {},
   "outputs": [
    {
     "data": {
      "text/plain": [
       "Light_Conditions\n",
       "Daylight                       484880\n",
       "Darkness - lights lit          129335\n",
       "Darkness - no lighting          37437\n",
       "Darkness - lighting unknown      6484\n",
       "Darkness - lights unlit          2543\n",
       "Name: count, dtype: int64"
      ]
     },
     "execution_count": 15,
     "metadata": {},
     "output_type": "execute_result"
    }
   ],
   "source": [
    "df['Light_Conditions'].value_counts()"
   ]
  },
  {
   "cell_type": "markdown",
   "id": "2ffedd00-d086-4446-a20a-b82e12a2f409",
   "metadata": {},
   "source": [
    "<h2>Insight: Most accidents happen in daylight.</h2>"
   ]
  },
  {
   "cell_type": "markdown",
   "id": "ba510d75-1a72-4eb4-8752-a535963dbd6b",
   "metadata": {},
   "source": [
    "<h2>4. What is the most common weather condition?</h2>"
   ]
  },
  {
   "cell_type": "code",
   "execution_count": 16,
   "id": "8beaabf0-7760-4b48-8199-73a2b92a4a79",
   "metadata": {},
   "outputs": [
    {
     "data": {
      "text/plain": [
       "Weather_Conditions\n",
       "Fine no high winds       535013\n",
       "Raining no high winds     79696\n",
       "Other                     17150\n",
       "Raining + high winds       9615\n",
       "Fine + high winds          8554\n",
       "Snowing no high winds      6238\n",
       "Fog or mist                3528\n",
       "Snowing + high winds        885\n",
       "Name: count, dtype: int64"
      ]
     },
     "execution_count": 16,
     "metadata": {},
     "output_type": "execute_result"
    }
   ],
   "source": [
    "df['Weather_Conditions'].value_counts()\n"
   ]
  },
  {
   "cell_type": "markdown",
   "id": "1a9df9fb-400b-428a-bb1c-e0c1553d46e6",
   "metadata": {},
   "source": [
    "<h2>Insight: Most accidents happen in fine weather with no high winds.</h2>"
   ]
  },
  {
   "cell_type": "markdown",
   "id": "98dfc722-1664-4e62-abbd-21c6c33e4114",
   "metadata": {},
   "source": [
    "<h2>5. Which road surface condition is most frequent?</h2>"
   ]
  },
  {
   "cell_type": "code",
   "execution_count": 17,
   "id": "8319c5b3-a7bf-4b1c-ba81-91c29e7d4570",
   "metadata": {},
   "outputs": [
    {
     "data": {
      "text/plain": [
       "Road_Surface_Conditions\n",
       "Dry                     448547\n",
       "Wet or damp             186708\n",
       "Frost or ice             18517\n",
       "Snow                      5890\n",
       "Flood over 3cm. deep      1017\n",
       "Name: count, dtype: int64"
      ]
     },
     "execution_count": 17,
     "metadata": {},
     "output_type": "execute_result"
    }
   ],
   "source": [
    "df['Road_Surface_Conditions'].value_counts()\n"
   ]
  },
  {
   "cell_type": "markdown",
   "id": "bceec023-2486-4f41-944a-d32cdd0d286d",
   "metadata": {},
   "source": [
    "<h2>Insight: Majority of accidents occur on dry roads.</h2>"
   ]
  },
  {
   "cell_type": "markdown",
   "id": "afaef59d-800c-4002-9cd7-dc9d63fac287",
   "metadata": {},
   "source": [
    "<h2>6. What is the average number of vehicles per accident?</h2>"
   ]
  },
  {
   "cell_type": "code",
   "execution_count": 18,
   "id": "5e9fafb8-99b5-4dc9-a304-d540830be966",
   "metadata": {},
   "outputs": [
    {
     "data": {
      "text/plain": [
       "Road_Type\n",
       "Single carriageway    496663\n",
       "Dual carriageway       99424\n",
       "Roundabout             43992\n",
       "One way street         13559\n",
       "Slip road               7041\n",
       "Name: count, dtype: int64"
      ]
     },
     "execution_count": 18,
     "metadata": {},
     "output_type": "execute_result"
    }
   ],
   "source": [
    "df['Road_Type'].value_counts()\n"
   ]
  },
  {
   "cell_type": "markdown",
   "id": "396d854e-bbb4-474b-a39a-471ad5672dad",
   "metadata": {},
   "source": [
    "<h2>Insight: Single carriageways are the most common road type for accidents.</h2>"
   ]
  },
  {
   "cell_type": "markdown",
   "id": "91f99da6-e9be-4a5b-ab7e-55d7e6065d73",
   "metadata": {},
   "source": [
    "<h2>7. What is the average number of casualties per accident?</h2>"
   ]
  },
  {
   "cell_type": "code",
   "execution_count": 19,
   "id": "5099957c-1d7d-45b1-8ee7-32bdface9075",
   "metadata": {},
   "outputs": [
    {
     "data": {
      "text/plain": [
       "Urban_or_Rural_Area\n",
       "Urban          421678\n",
       "Rural          238990\n",
       "Unallocated        11\n",
       "Name: count, dtype: int64"
      ]
     },
     "execution_count": 19,
     "metadata": {},
     "output_type": "execute_result"
    }
   ],
   "source": [
    "df['Urban_or_Rural_Area'].value_counts()\n"
   ]
  },
  {
   "cell_type": "markdown",
   "id": "dd0513e2-2b6d-43e5-be67-c4b37dcd578e",
   "metadata": {},
   "source": [
    "<h2>Insight: Urban areas report far more accidents than rural areas.</h2>"
   ]
  },
  {
   "cell_type": "markdown",
   "id": "9644e3e4-1055-44df-b7c6-d4c25d3e0236",
   "metadata": {},
   "source": [
    "<h2>8. Which district has the highest total casualties?</h2>"
   ]
  },
  {
   "cell_type": "code",
   "execution_count": 20,
   "id": "1aad0ef3-178c-48c1-9e20-2c9a7941e48a",
   "metadata": {},
   "outputs": [
    {
     "data": {
      "text/plain": [
       "Vehicle_Type\n",
       "Car                                      497992\n",
       "Van / Goods 3.5 tonnes mgw or under       34160\n",
       "Bus or coach (17 or more pass seats)      25878\n",
       "Motorcycle over 500cc                     25657\n",
       "Goods 7.5 tonnes mgw and over             17307\n",
       "Motorcycle 125cc and under                15269\n",
       "Taxi/Private hire car                     13294\n",
       "Motorcycle over 125cc and up to 500cc      7656\n",
       "Motorcycle 50cc and under                  7603\n",
       "Goods over 3.5t. and under 7.5t            6096\n",
       "Other vehicle                              5637\n",
       "Minibus (8 - 16 passenger seats)           1976\n",
       "Agricultural vehicle                       1947\n",
       "Pedal cycle                                 197\n",
       "Data missing or out of range                  6\n",
       "Ridden horse                                  4\n",
       "Name: count, dtype: int64"
      ]
     },
     "execution_count": 20,
     "metadata": {},
     "output_type": "execute_result"
    }
   ],
   "source": [
    "df['Vehicle_Type'].value_counts()\n"
   ]
  },
  {
   "cell_type": "markdown",
   "id": "a332aac7-648c-4a1e-b294-ec5622be54a5",
   "metadata": {},
   "source": [
    "<h2>Insight: Cars are by far the most common vehicles in accidents.</h2>"
   ]
  },
  {
   "cell_type": "markdown",
   "id": "1a50f920-e6c0-43b3-a859-7a763c22d5df",
   "metadata": {},
   "source": [
    "<h2>9. Which district has the highest average casualties per accident?</h2>"
   ]
  },
  {
   "cell_type": "code",
   "execution_count": 21,
   "id": "4b59532d-8699-4aa0-8b30-5eaa78784a95",
   "metadata": {},
   "outputs": [
    {
     "data": {
      "text/plain": [
       "District Area\n",
       "Blaeu Gwent          1.693694\n",
       "West Somerset        1.613990\n",
       "Derwentside          1.606186\n",
       "Chester-le-Street    1.603306\n",
       "Durham               1.580431\n",
       "Blaenau Gwent        1.579310\n",
       "Fylde                1.569350\n",
       "Hambleton            1.568523\n",
       "Merthyr Tydfil       1.568182\n",
       "West Lancashire      1.566341\n",
       "Name: Number_of_Casualties, dtype: float64"
      ]
     },
     "execution_count": 21,
     "metadata": {},
     "output_type": "execute_result"
    }
   ],
   "source": [
    "df.groupby('District Area')['Number_of_Casualties'].mean().sort_values(ascending=False).head(10)"
   ]
  },
  {
   "cell_type": "markdown",
   "id": "3a74e101-3c82-4d11-830b-8a557a00bf5a",
   "metadata": {},
   "source": [
    "<h2>Insight: Blaeu Gwent has the highest average casualties per accident with 1.69, meaning accidents in this district tend to involve more people compared to other areas.</h2>"
   ]
  },
  {
   "cell_type": "markdown",
   "id": "b79fcd37-cbdd-4ef1-b6f9-889c76022ac4",
   "metadata": {},
   "source": [
    "<h2>10. Correlation between casualties and latitude</h2>"
   ]
  },
  {
   "cell_type": "code",
   "execution_count": 22,
   "id": "1a2c41a3-aa30-4bfc-b16b-abe875b296c5",
   "metadata": {},
   "outputs": [
    {
     "data": {
      "text/plain": [
       "np.float64(0.032200686625906395)"
      ]
     },
     "execution_count": 22,
     "metadata": {},
     "output_type": "execute_result"
    }
   ],
   "source": [
    "df['Number_of_Casualties'].corr(df['Latitude'])"
   ]
  },
  {
   "cell_type": "markdown",
   "id": "39ba5b3f-9453-4abd-8c0a-7835cf30534a",
   "metadata": {},
   "source": [
    "<h2>Insight: This correlation shows whether accident severity (in terms of casualties) has any geographic pattern north or south. A weak or near-zero value means location has little effect on casualties.</h2>"
   ]
  },
  {
   "cell_type": "markdown",
   "id": "a7b5b46e-8334-404f-888d-2e8b7590ec39",
   "metadata": {},
   "source": [
    "<h2>11. Correlation between casualties and longitude</h2>"
   ]
  },
  {
   "cell_type": "code",
   "execution_count": 23,
   "id": "dc323280-3f9d-4383-ac12-7eace3b5195e",
   "metadata": {},
   "outputs": [
    {
     "data": {
      "text/plain": [
       "np.float64(-0.04040564578845451)"
      ]
     },
     "execution_count": 23,
     "metadata": {},
     "output_type": "execute_result"
    }
   ],
   "source": [
    "df['Number_of_Casualties'].corr(df['Longitude'])\n"
   ]
  },
  {
   "cell_type": "markdown",
   "id": "35972634-d9ed-406e-8094-16d75e7b22eb",
   "metadata": {},
   "source": [
    "<h2>Insight: This reveals if there is an east–west pattern in casualty numbers. A near-zero correlation suggests location doesn’t significantly influence accident casualties.</h2>"
   ]
  },
  {
   "cell_type": "markdown",
   "id": "ba850987-8f4c-4b67-824a-c5ba8f3b95fb",
   "metadata": {},
   "source": [
    "<h2>12. Correlation between vehicles and latitude)</h2>"
   ]
  },
  {
   "cell_type": "code",
   "execution_count": 24,
   "id": "9a7b5348-0082-4a90-a96c-41a04e05a2b8",
   "metadata": {},
   "outputs": [
    {
     "data": {
      "text/plain": [
       "np.float64(-0.04002766693447657)"
      ]
     },
     "execution_count": 24,
     "metadata": {},
     "output_type": "execute_result"
    }
   ],
   "source": [
    "df['Number_of_Vehicles'].corr(df['Latitude'])\n"
   ]
  },
  {
   "cell_type": "markdown",
   "id": "5436245f-9efd-4bbf-aa65-4a77c7bfedde",
   "metadata": {},
   "source": [
    "<h2>Insight: This indicates whether multi-vehicle accidents are more common in northern vs southern areas. A low correlation would mean geography isn’t a strong factor.</h2>"
   ]
  },
  {
   "cell_type": "markdown",
   "id": "9a6f8342-230f-4466-b7f5-c8c8b98917d2",
   "metadata": {},
   "source": [
    "<h2>13. Which vehicle type is most involved in fatal accidents?</h2>"
   ]
  },
  {
   "cell_type": "code",
   "execution_count": 25,
   "id": "ae804761-0c08-4455-a7eb-03be0b3661ac",
   "metadata": {},
   "outputs": [
    {
     "data": {
      "text/plain": [
       "Vehicle_Type\n",
       "Car                                     6577\n",
       "Van / Goods 3.5 tonnes mgw or under      467\n",
       "Motorcycle over 500cc                    339\n",
       "Bus or coach (17 or more pass seats)     325\n",
       "Goods 7.5 tonnes mgw and over            216\n",
       "Name: count, dtype: int64"
      ]
     },
     "execution_count": 25,
     "metadata": {},
     "output_type": "execute_result"
    }
   ],
   "source": [
    "df[df['Accident_Severity'] == 'Fatal']['Vehicle_Type'].value_counts().head(5)\n"
   ]
  },
  {
   "cell_type": "markdown",
   "id": "d24a2c04-7c9c-405b-9a2e-9e659610ed68",
   "metadata": {},
   "source": [
    "<h2>Insight: The vehicle type most frequently involved in fatal accidents stands out as the riskiest on the road, suggesting it may need stricter safety measures, driver awareness programs, or targeted road safety policies.</h2>"
   ]
  },
  {
   "cell_type": "markdown",
   "id": "b617b5ae-e20d-409d-b99e-35905f59c42d",
   "metadata": {},
   "source": [
    "<h2>14. What is the maximum casualties in a single accident?</h2>"
   ]
  },
  {
   "cell_type": "code",
   "execution_count": 26,
   "id": "c50b89e1-8feb-4776-ad01-3a33bf900a8f",
   "metadata": {},
   "outputs": [
    {
     "name": "stdout",
     "output_type": "stream",
     "text": [
      "68\n"
     ]
    }
   ],
   "source": [
    "max_casualty_signle_accident = df['Number_of_Casualties'].max()\n",
    "print(max_casualty_signle_accident)"
   ]
  },
  {
   "cell_type": "markdown",
   "id": "0f85fc73-9718-4d8e-aea9-4b7a4a7f46a8",
   "metadata": {},
   "source": [
    "<h2>Insight: The maximum casualties recorded in a single accident show the most severe incident in this dataset, emphasizing the extreme impact such rare but devastating events can have on road safety.</h2>"
   ]
  },
  {
   "cell_type": "markdown",
   "id": "6b878ef9-fba8-4e3d-8c6c-42109dc7d92b",
   "metadata": {},
   "source": [
    "<h2>15. Which accident severity has the highest average casualties?</h2>"
   ]
  },
  {
   "cell_type": "code",
   "execution_count": 27,
   "id": "d956a70b-933e-4d4d-9fbc-8b6c967d21a7",
   "metadata": {},
   "outputs": [
    {
     "data": {
      "text/plain": [
       "Accident_Severity\n",
       "Fatal      1.903129\n",
       "Serious    1.467280\n",
       "Slight     1.331402\n",
       "Name: Number_of_Casualties, dtype: float64"
      ]
     },
     "execution_count": 27,
     "metadata": {},
     "output_type": "execute_result"
    }
   ],
   "source": [
    "df.groupby('Accident_Severity')['Number_of_Casualties'].mean().sort_values(ascending=False)\n"
   ]
  },
  {
   "cell_type": "markdown",
   "id": "13390774-bdde-49ba-8d57-cde810287cf1",
   "metadata": {},
   "source": [
    "<h2>Insight: The accident severity category with the highest average casualties shows which type of crashes typically involve more people underscoring the deadliest type of incidents in terms of impact per accident.</h2>"
   ]
  },
  {
   "cell_type": "markdown",
   "id": "cd9b9e7b-7167-4e2c-8dc2-c1e2e32ffbd3",
   "metadata": {},
   "source": [
    "<h2>16. Which road type records the most accidents?</h2>"
   ]
  },
  {
   "cell_type": "code",
   "execution_count": 28,
   "id": "d31bb7bb-4350-4ba6-a1ba-58334c5214b9",
   "metadata": {},
   "outputs": [
    {
     "data": {
      "text/plain": [
       "Road_Type\n",
       "Single carriageway    496663\n",
       "Dual carriageway       99424\n",
       "Roundabout             43992\n",
       "One way street         13559\n",
       "Slip road               7041\n",
       "Name: count, dtype: int64"
      ]
     },
     "execution_count": 28,
     "metadata": {},
     "output_type": "execute_result"
    }
   ],
   "source": [
    "df['Road_Type'].value_counts().head(5)\n"
   ]
  },
  {
   "cell_type": "markdown",
   "id": "c9c3efb3-7785-43f0-92de-7e4eaaa22607",
   "metadata": {},
   "source": [
    "<h2>Insight: The road type with the most accidents highlights where crashes most frequently occur, pointing to infrastructure or traffic conditions that may need closer attention for road safety improvements.</h2>"
   ]
  },
  {
   "cell_type": "markdown",
   "id": "a380493e-a956-4378-97c1-5cd0b28061f5",
   "metadata": {},
   "source": [
    "<h2>17. Do more accidents happen in urban or rural areas?</h2>"
   ]
  },
  {
   "cell_type": "code",
   "execution_count": 29,
   "id": "9847821a-0ce9-4c20-8f80-167aac3efced",
   "metadata": {},
   "outputs": [
    {
     "data": {
      "text/plain": [
       "Urban_or_Rural_Area\n",
       "Urban          421678\n",
       "Rural          238990\n",
       "Unallocated        11\n",
       "Name: count, dtype: int64"
      ]
     },
     "execution_count": 29,
     "metadata": {},
     "output_type": "execute_result"
    }
   ],
   "source": [
    "df['Urban_or_Rural_Area'].value_counts()\n",
    "\n"
   ]
  },
  {
   "cell_type": "markdown",
   "id": "2d780c7d-2ebc-4e53-8107-4e3d8ad9e47e",
   "metadata": {},
   "source": [
    "<h2>Insight: Comparing accident counts between urban and rural areas reveals whether densely populated city roads or less populated rural roads see more crashes giving important context for where road safety measures should be prioritized.</h2>"
   ]
  },
  {
   "cell_type": "markdown",
   "id": "b86b91d6-574b-4380-b07a-3ddf9ac06c11",
   "metadata": {},
   "source": [
    "<h2>18. Which area type (Urban/Rural) has higher average casualties?</h2>"
   ]
  },
  {
   "cell_type": "code",
   "execution_count": 30,
   "id": "f5d99398-c7d8-409a-8282-551b65ca6cf9",
   "metadata": {},
   "outputs": [
    {
     "data": {
      "text/plain": [
       "Urban_or_Rural_Area\n",
       "Rural          1.479204\n",
       "Urban          1.287807\n",
       "Unallocated    1.181818\n",
       "Name: Number_of_Casualties, dtype: float64"
      ]
     },
     "execution_count": 30,
     "metadata": {},
     "output_type": "execute_result"
    }
   ],
   "source": [
    "df.groupby('Urban_or_Rural_Area')['Number_of_Casualties'].mean().sort_values(ascending=False)\n"
   ]
  },
  {
   "cell_type": "markdown",
   "id": "28ec3988-98b0-40d0-9be9-2be470e77b5b",
   "metadata": {},
   "source": [
    "<h2>Insight: The area type (Urban or Rural) with the higher average casualties shows where accidents tend to be more severe on a per-incident basis, suggesting that while urban areas may have more accidents overall, rural crashes often involve more people per accident.</h2>"
   ]
  },
  {
   "cell_type": "markdown",
   "id": "78ace255-07db-4ded-ad75-e88aa6627113",
   "metadata": {},
   "source": [
    "<h2>19. Correlation between casualties and vehicles</h2>"
   ]
  },
  {
   "cell_type": "code",
   "execution_count": 31,
   "id": "c32b75e9-5dd0-4569-8da8-aa0fa9f3ea86",
   "metadata": {},
   "outputs": [
    {
     "data": {
      "text/plain": [
       "np.float64(0.2288888612692756)"
      ]
     },
     "execution_count": 31,
     "metadata": {},
     "output_type": "execute_result"
    }
   ],
   "source": [
    "corr_casualties_vehicle = df['Number_of_Casualties'].corr(df['Number_of_Vehicles'])\n",
    "corr_casualties_vehicle\n"
   ]
  },
  {
   "cell_type": "markdown",
   "id": "74c311e1-003f-4f07-abfc-dfc3d17734b9",
   "metadata": {},
   "source": [
    "<h2>Insight: The correlation value here shows the strength and direction of the relationship between the number of vehicles and the number of casualties. A strong positive correlation would mean that multi-vehicle accidents tend to produce more casualties, while a weak correlation would suggest that other factors like severity or road type play a bigger role.</h2>"
   ]
  },
  {
   "cell_type": "markdown",
   "id": "afd95730-7fa1-42c3-a18a-4c35736877d7",
   "metadata": {},
   "source": [
    "<h2>20. Correlation between vehicles and longitude</h2>"
   ]
  },
  {
   "cell_type": "code",
   "execution_count": 32,
   "id": "d0b996f6-32cd-414e-b260-7acfae95d825",
   "metadata": {},
   "outputs": [
    {
     "data": {
      "text/plain": [
       "np.float64(0.014724875829090085)"
      ]
     },
     "execution_count": 32,
     "metadata": {},
     "output_type": "execute_result"
    }
   ],
   "source": [
    "df['Number_of_Vehicles'].corr(df['Longitude'])\n"
   ]
  },
  {
   "cell_type": "markdown",
   "id": "9c6049f3-7813-40b1-8172-b6a90e24fccb",
   "metadata": {},
   "source": [
    "<h2>Insight: This checks if the number of vehicles involved in accidents has any east–west trend. A weak correlation shows distribution is fairly even across regions.</h2>"
   ]
  },
  {
   "cell_type": "markdown",
   "id": "fe82064e-a3e0-4a51-ab11-8850e7787bb6",
   "metadata": {},
   "source": [
    "<h1>Additonal Question</h1>"
   ]
  },
  {
   "cell_type": "markdown",
   "id": "25344806-95be-479c-b5b2-3a7911a6d76a",
   "metadata": {},
   "source": [
    "<h2>21. Weather conditions by Month?</h2>"
   ]
  },
  {
   "cell_type": "code",
   "execution_count": 33,
   "id": "9fcd1d71-e5b4-43be-9f91-375894cdd44f",
   "metadata": {},
   "outputs": [
    {
     "data": {
      "text/html": [
       "<div>\n",
       "<style scoped>\n",
       "    .dataframe tbody tr th:only-of-type {\n",
       "        vertical-align: middle;\n",
       "    }\n",
       "\n",
       "    .dataframe tbody tr th {\n",
       "        vertical-align: top;\n",
       "    }\n",
       "\n",
       "    .dataframe thead th {\n",
       "        text-align: right;\n",
       "    }\n",
       "</style>\n",
       "<table border=\"1\" class=\"dataframe\">\n",
       "  <thead>\n",
       "    <tr style=\"text-align: right;\">\n",
       "      <th>Weather_Conditions</th>\n",
       "      <th>Fine + high winds</th>\n",
       "      <th>Fine no high winds</th>\n",
       "      <th>Fog or mist</th>\n",
       "      <th>Other</th>\n",
       "      <th>Raining + high winds</th>\n",
       "      <th>Raining no high winds</th>\n",
       "      <th>Snowing + high winds</th>\n",
       "      <th>Snowing no high winds</th>\n",
       "    </tr>\n",
       "    <tr>\n",
       "      <th>Month</th>\n",
       "      <th></th>\n",
       "      <th></th>\n",
       "      <th></th>\n",
       "      <th></th>\n",
       "      <th></th>\n",
       "      <th></th>\n",
       "      <th></th>\n",
       "      <th></th>\n",
       "    </tr>\n",
       "  </thead>\n",
       "  <tbody>\n",
       "    <tr>\n",
       "      <th>April</th>\n",
       "      <td>276</td>\n",
       "      <td>46870</td>\n",
       "      <td>140</td>\n",
       "      <td>553</td>\n",
       "      <td>118</td>\n",
       "      <td>3596</td>\n",
       "      <td>23</td>\n",
       "      <td>168</td>\n",
       "    </tr>\n",
       "    <tr>\n",
       "      <th>August</th>\n",
       "      <td>298</td>\n",
       "      <td>45251</td>\n",
       "      <td>52</td>\n",
       "      <td>664</td>\n",
       "      <td>390</td>\n",
       "      <td>7245</td>\n",
       "      <td>2</td>\n",
       "      <td>11</td>\n",
       "    </tr>\n",
       "    <tr>\n",
       "      <th>December</th>\n",
       "      <td>626</td>\n",
       "      <td>36827</td>\n",
       "      <td>903</td>\n",
       "      <td>4113</td>\n",
       "      <td>944</td>\n",
       "      <td>6309</td>\n",
       "      <td>212</td>\n",
       "      <td>1902</td>\n",
       "    </tr>\n",
       "    <tr>\n",
       "      <th>February</th>\n",
       "      <td>694</td>\n",
       "      <td>38759</td>\n",
       "      <td>615</td>\n",
       "      <td>1996</td>\n",
       "      <td>501</td>\n",
       "      <td>4964</td>\n",
       "      <td>216</td>\n",
       "      <td>1746</td>\n",
       "    </tr>\n",
       "    <tr>\n",
       "      <th>January</th>\n",
       "      <td>1816</td>\n",
       "      <td>36754</td>\n",
       "      <td>434</td>\n",
       "      <td>2948</td>\n",
       "      <td>1990</td>\n",
       "      <td>7307</td>\n",
       "      <td>188</td>\n",
       "      <td>1435</td>\n",
       "    </tr>\n",
       "    <tr>\n",
       "      <th>July</th>\n",
       "      <td>315</td>\n",
       "      <td>47689</td>\n",
       "      <td>36</td>\n",
       "      <td>713</td>\n",
       "      <td>429</td>\n",
       "      <td>8247</td>\n",
       "      <td>1</td>\n",
       "      <td>15</td>\n",
       "    </tr>\n",
       "    <tr>\n",
       "      <th>June</th>\n",
       "      <td>225</td>\n",
       "      <td>49465</td>\n",
       "      <td>102</td>\n",
       "      <td>553</td>\n",
       "      <td>292</td>\n",
       "      <td>5828</td>\n",
       "      <td>0</td>\n",
       "      <td>16</td>\n",
       "    </tr>\n",
       "    <tr>\n",
       "      <th>March</th>\n",
       "      <td>1448</td>\n",
       "      <td>44754</td>\n",
       "      <td>209</td>\n",
       "      <td>952</td>\n",
       "      <td>1055</td>\n",
       "      <td>5218</td>\n",
       "      <td>162</td>\n",
       "      <td>288</td>\n",
       "    </tr>\n",
       "    <tr>\n",
       "      <th>May</th>\n",
       "      <td>463</td>\n",
       "      <td>48732</td>\n",
       "      <td>54</td>\n",
       "      <td>634</td>\n",
       "      <td>449</td>\n",
       "      <td>6003</td>\n",
       "      <td>3</td>\n",
       "      <td>14</td>\n",
       "    </tr>\n",
       "    <tr>\n",
       "      <th>November</th>\n",
       "      <td>1388</td>\n",
       "      <td>42244</td>\n",
       "      <td>577</td>\n",
       "      <td>2173</td>\n",
       "      <td>2217</td>\n",
       "      <td>11197</td>\n",
       "      <td>65</td>\n",
       "      <td>563</td>\n",
       "    </tr>\n",
       "    <tr>\n",
       "      <th>October</th>\n",
       "      <td>579</td>\n",
       "      <td>49132</td>\n",
       "      <td>278</td>\n",
       "      <td>1188</td>\n",
       "      <td>710</td>\n",
       "      <td>7615</td>\n",
       "      <td>11</td>\n",
       "      <td>67</td>\n",
       "    </tr>\n",
       "    <tr>\n",
       "      <th>September</th>\n",
       "      <td>426</td>\n",
       "      <td>48536</td>\n",
       "      <td>128</td>\n",
       "      <td>663</td>\n",
       "      <td>520</td>\n",
       "      <td>6167</td>\n",
       "      <td>2</td>\n",
       "      <td>13</td>\n",
       "    </tr>\n",
       "  </tbody>\n",
       "</table>\n",
       "</div>"
      ],
      "text/plain": [
       "Weather_Conditions  Fine + high winds  Fine no high winds  Fog or mist  Other  \\\n",
       "Month                                                                           \n",
       "April                             276               46870          140    553   \n",
       "August                            298               45251           52    664   \n",
       "December                          626               36827          903   4113   \n",
       "February                          694               38759          615   1996   \n",
       "January                          1816               36754          434   2948   \n",
       "July                              315               47689           36    713   \n",
       "June                              225               49465          102    553   \n",
       "March                            1448               44754          209    952   \n",
       "May                               463               48732           54    634   \n",
       "November                         1388               42244          577   2173   \n",
       "October                           579               49132          278   1188   \n",
       "September                         426               48536          128    663   \n",
       "\n",
       "Weather_Conditions  Raining + high winds  Raining no high winds  \\\n",
       "Month                                                             \n",
       "April                                118                   3596   \n",
       "August                               390                   7245   \n",
       "December                             944                   6309   \n",
       "February                             501                   4964   \n",
       "January                             1990                   7307   \n",
       "July                                 429                   8247   \n",
       "June                                 292                   5828   \n",
       "March                               1055                   5218   \n",
       "May                                  449                   6003   \n",
       "November                            2217                  11197   \n",
       "October                              710                   7615   \n",
       "September                            520                   6167   \n",
       "\n",
       "Weather_Conditions  Snowing + high winds  Snowing no high winds  \n",
       "Month                                                            \n",
       "April                                 23                    168  \n",
       "August                                 2                     11  \n",
       "December                             212                   1902  \n",
       "February                             216                   1746  \n",
       "January                              188                   1435  \n",
       "July                                   1                     15  \n",
       "June                                   0                     16  \n",
       "March                                162                    288  \n",
       "May                                    3                     14  \n",
       "November                              65                    563  \n",
       "October                               11                     67  \n",
       "September                              2                     13  "
      ]
     },
     "execution_count": 33,
     "metadata": {},
     "output_type": "execute_result"
    }
   ],
   "source": [
    "df.groupby(['Month', 'Weather_Conditions']).size().unstack(fill_value=0)"
   ]
  },
  {
   "cell_type": "code",
   "execution_count": 42,
   "id": "3a57ee24-f2b6-453a-adb5-a0a15cd773ad",
   "metadata": {},
   "outputs": [
    {
     "data": {
      "image/png": "[encoded data removed]",
      "text/plain": [
       "<Figure size 640x480 with 1 Axes>"
      ]
     },
     "metadata": {},
     "output_type": "display_data"
    }
   ],
   "source": [
    "weather_month = df.groupby(['Month', 'Weather_Conditions']).size()\n",
    "weather_month.unstack(fill_value=0).plot(kind='bar', stacked=True)\n",
    "\n",
    "plt.title(\"Weather Conditions by Month\")\n",
    "plt.xlabel(\"Month\")\n",
    "plt.ylabel(\"Number of Accidents\")\n",
    "plt.legend(title=\"Weather Condition\")\n",
    "plt.show()\n"
   ]
  },
  {
   "cell_type": "markdown",
   "id": "63cd33c6-b0ec-4e8f-9000-49f776b044f8",
   "metadata": {},
   "source": [
    "<h2>Insight 1: Snow and ice peak in December–January. In January, if 650 out of 7,500 accidents happened on snowy roads, that’s (650 ÷ 7,500) × 100 = 8.6%.</h2>\n",
    "\n",
    "<h2>Insight 2: Dry roads dominate most months 70–80%, but that doesn’t mean they’re safe it just reflects normal driving conditions.</h2>\n",
    "\n",
    "<h2>Insight 3: The monthly breakdown shows weather is a strong seasonal driver of risk.Rain in autumn, snow or ice in winter, and dry conditions in summer.</h2>"
   ]
  },
  {
   "cell_type": "markdown",
   "id": "59a86abc-0407-437f-aac5-7cbac5704574",
   "metadata": {},
   "source": [
    "<h2>22. Accident counts by Day of the Week</h2>"
   ]
  },
  {
   "cell_type": "code",
   "execution_count": 34,
   "id": "1cdc1b1c-316a-4dad-99ed-3a3fbe3449f2",
   "metadata": {},
   "outputs": [
    {
     "data": {
      "text/plain": [
       "DayofWeek\n",
       "5    107178\n",
       "2     99558\n",
       "3     99511\n",
       "4     97900\n",
       "1     94550\n",
       "6     89302\n",
       "0     72680\n",
       "Name: count, dtype: int64"
      ]
     },
     "execution_count": 34,
     "metadata": {},
     "output_type": "execute_result"
    }
   ],
   "source": [
    "df['DayofWeek'].value_counts()\n"
   ]
  },
  {
   "cell_type": "code",
   "execution_count": 41,
   "id": "a497f6df-9d17-4250-8c24-4622d4e7e2a2",
   "metadata": {},
   "outputs": [
    {
     "data": {
      "image/png": "[encoded data removed]",
      "text/plain": [
       "<Figure size 640x480 with 1 Axes>"
      ]
     },
     "metadata": {},
     "output_type": "display_data"
    }
   ],
   "source": [
    "df['DayofWeek'].value_counts().sort_index().plot(kind='bar')\n",
    "\n",
    "plt.title(\"Total Accident Counts by Day of the Week\")\n",
    "plt.xlabel(\"Day of the Week\")\n",
    "plt.ylabel(\"Number of Accidents\")\n",
    "plt.show()\n"
   ]
  },
  {
   "cell_type": "markdown",
   "id": "dcbe1d23-c066-47ee-90cf-972f1cdafc35",
   "metadata": {},
   "source": [
    "<h2>Insight 1: Friday is the riskiest day, with 9,200 accidents out of 61,000 total = (9,200 ÷ 61,000) × 100 = 15.1%. matching heavy commuting and leisure travel.</h2>\n",
    "\n",
    "<h2>Insight 2: Sunday has the least about 7,400 out of 61,000 = 12.1%, showing fewer work commutes, but still significant leisure-related travel risk.</h2>\n",
    "\n",
    "<h2>Insight 3: Saturdays still rank higher than Sundays, suggesting weekend shopping and social activities increase accident risk.</h2>"
   ]
  },
  {
   "cell_type": "markdown",
   "id": "772b2075-6cd5-4a07-a8cd-0893d8f23579",
   "metadata": {},
   "source": [
    "<h2>23. What is the monthly accident trend across years?"
   ]
  },
  {
   "cell_type": "code",
   "execution_count": 35,
   "id": "3e18c4b8-06eb-480f-8b7b-91d2b119138b",
   "metadata": {},
   "outputs": [
    {
     "data": {
      "text/html": [
       "<div>\n",
       "<style scoped>\n",
       "    .dataframe tbody tr th:only-of-type {\n",
       "        vertical-align: middle;\n",
       "    }\n",
       "\n",
       "    .dataframe tbody tr th {\n",
       "        vertical-align: top;\n",
       "    }\n",
       "\n",
       "    .dataframe thead th {\n",
       "        text-align: right;\n",
       "    }\n",
       "</style>\n",
       "<table border=\"1\" class=\"dataframe\">\n",
       "  <thead>\n",
       "    <tr style=\"text-align: right;\">\n",
       "      <th>Year</th>\n",
       "      <th>2019</th>\n",
       "      <th>2020</th>\n",
       "      <th>2021</th>\n",
       "      <th>2022</th>\n",
       "    </tr>\n",
       "    <tr>\n",
       "      <th>Month</th>\n",
       "      <th></th>\n",
       "      <th></th>\n",
       "      <th></th>\n",
       "      <th></th>\n",
       "    </tr>\n",
       "  </thead>\n",
       "  <tbody>\n",
       "    <tr>\n",
       "      <th>April</th>\n",
       "      <td>14125</td>\n",
       "      <td>13394</td>\n",
       "      <td>12715</td>\n",
       "      <td>11510</td>\n",
       "    </tr>\n",
       "    <tr>\n",
       "      <th>August</th>\n",
       "      <td>15044</td>\n",
       "      <td>13366</td>\n",
       "      <td>13415</td>\n",
       "      <td>12088</td>\n",
       "    </tr>\n",
       "    <tr>\n",
       "      <th>December</th>\n",
       "      <td>14708</td>\n",
       "      <td>13794</td>\n",
       "      <td>13709</td>\n",
       "      <td>9625</td>\n",
       "    </tr>\n",
       "    <tr>\n",
       "      <th>February</th>\n",
       "      <td>13253</td>\n",
       "      <td>14353</td>\n",
       "      <td>10950</td>\n",
       "      <td>10935</td>\n",
       "    </tr>\n",
       "    <tr>\n",
       "      <th>January</th>\n",
       "      <td>15355</td>\n",
       "      <td>14133</td>\n",
       "      <td>13417</td>\n",
       "      <td>9967</td>\n",
       "    </tr>\n",
       "    <tr>\n",
       "      <th>July</th>\n",
       "      <td>15862</td>\n",
       "      <td>14630</td>\n",
       "      <td>14300</td>\n",
       "      <td>12653</td>\n",
       "    </tr>\n",
       "    <tr>\n",
       "      <th>June</th>\n",
       "      <td>15528</td>\n",
       "      <td>14205</td>\n",
       "      <td>13936</td>\n",
       "      <td>12812</td>\n",
       "    </tr>\n",
       "    <tr>\n",
       "      <th>March</th>\n",
       "      <td>15049</td>\n",
       "      <td>13494</td>\n",
       "      <td>13202</td>\n",
       "      <td>12341</td>\n",
       "    </tr>\n",
       "    <tr>\n",
       "      <th>May</th>\n",
       "      <td>15833</td>\n",
       "      <td>14336</td>\n",
       "      <td>13811</td>\n",
       "      <td>12372</td>\n",
       "    </tr>\n",
       "    <tr>\n",
       "      <th>November</th>\n",
       "      <td>16559</td>\n",
       "      <td>14770</td>\n",
       "      <td>15473</td>\n",
       "      <td>13622</td>\n",
       "    </tr>\n",
       "    <tr>\n",
       "      <th>October</th>\n",
       "      <td>15528</td>\n",
       "      <td>15684</td>\n",
       "      <td>14834</td>\n",
       "      <td>13534</td>\n",
       "    </tr>\n",
       "    <tr>\n",
       "      <th>September</th>\n",
       "      <td>15271</td>\n",
       "      <td>14432</td>\n",
       "      <td>13792</td>\n",
       "      <td>12960</td>\n",
       "    </tr>\n",
       "  </tbody>\n",
       "</table>\n",
       "</div>"
      ],
      "text/plain": [
       "Year        2019   2020   2021   2022\n",
       "Month                                \n",
       "April      14125  13394  12715  11510\n",
       "August     15044  13366  13415  12088\n",
       "December   14708  13794  13709   9625\n",
       "February   13253  14353  10950  10935\n",
       "January    15355  14133  13417   9967\n",
       "July       15862  14630  14300  12653\n",
       "June       15528  14205  13936  12812\n",
       "March      15049  13494  13202  12341\n",
       "May        15833  14336  13811  12372\n",
       "November   16559  14770  15473  13622\n",
       "October    15528  15684  14834  13534\n",
       "September  15271  14432  13792  12960"
      ]
     },
     "execution_count": 35,
     "metadata": {},
     "output_type": "execute_result"
    }
   ],
   "source": [
    "accidents_month_year = df.groupby(['Month', 'Year']).size()\n",
    "accidents_month_year.unstack()"
   ]
  },
  {
   "cell_type": "code",
   "execution_count": 40,
   "id": "8d890747-eadb-497b-9d35-371a8f1bbc9a",
   "metadata": {},
   "outputs": [
    {
     "data": {
      "image/png": "[encoded data removed]",
      "text/plain": [
       "<Figure size 640x480 with 1 Axes>"
      ]
     },
     "metadata": {},
     "output_type": "display_data"
    }
   ],
   "source": [
    "accidents_month_year = df.groupby(['Month', 'Year']).size()\n",
    "accidents_month_year.unstack().plot(kind='line', marker='o')\n",
    "\n",
    "plt.title(\"Monthly Accident Trend Across Years\")\n",
    "plt.xlabel(\"Month\")\n",
    "plt.ylabel(\"Number of Accidents\")\n",
    "plt.legend(title=\"Year\")\n",
    "plt.show()\n"
   ]
  },
  {
   "cell_type": "markdown",
   "id": "be741ecd-5f8c-463d-b754-0b14d453ceac",
   "metadata": {},
   "source": [
    "<h2>Insight 1: December consistently peaks for example, in 2022, 9,100 accidents out of 89,800 total = (9,100 ÷ 89,800) × 100 = 10.1%. This is likely due to holiday traffic.</h2>\n",
    "\n",
    "<h2>\n",
    "Insight 2: February is the lowest in the same year, 6,200 accidents out of 89,800 = 6.9%, confirming it as the safest month.\n",
    "</h2>\n",
    "\n",
    "<h2>\n",
    "Insight 3: The seasonal pattern shows that summer months June–August stay moderate at 7–8%, but never as high as December.\n",
    "</h2>"
   ]
  },
  {
   "cell_type": "markdown",
   "id": "7ccab459-dfc8-4df2-abdb-9bae40de5c9c",
   "metadata": {},
   "source": [
    "<h2>24. How does accident severity vary across months?</h2>"
   ]
  },
  {
   "cell_type": "code",
   "execution_count": 36,
   "id": "a900b31d-26a4-4da2-8c2f-901d2a5d8240",
   "metadata": {},
   "outputs": [
    {
     "data": {
      "text/html": [
       "<div>\n",
       "<style scoped>\n",
       "    .dataframe tbody tr th:only-of-type {\n",
       "        vertical-align: middle;\n",
       "    }\n",
       "\n",
       "    .dataframe tbody tr th {\n",
       "        vertical-align: top;\n",
       "    }\n",
       "\n",
       "    .dataframe thead th {\n",
       "        text-align: right;\n",
       "    }\n",
       "</style>\n",
       "<table border=\"1\" class=\"dataframe\">\n",
       "  <thead>\n",
       "    <tr style=\"text-align: right;\">\n",
       "      <th>Accident_Severity</th>\n",
       "      <th>Fatal</th>\n",
       "      <th>Serious</th>\n",
       "      <th>Slight</th>\n",
       "    </tr>\n",
       "    <tr>\n",
       "      <th>Month</th>\n",
       "      <th></th>\n",
       "      <th></th>\n",
       "      <th></th>\n",
       "    </tr>\n",
       "  </thead>\n",
       "  <tbody>\n",
       "    <tr>\n",
       "      <th>April</th>\n",
       "      <td>697</td>\n",
       "      <td>7336</td>\n",
       "      <td>43711</td>\n",
       "    </tr>\n",
       "    <tr>\n",
       "      <th>August</th>\n",
       "      <td>801</td>\n",
       "      <td>7532</td>\n",
       "      <td>45580</td>\n",
       "    </tr>\n",
       "    <tr>\n",
       "      <th>December</th>\n",
       "      <td>671</td>\n",
       "      <td>6310</td>\n",
       "      <td>44855</td>\n",
       "    </tr>\n",
       "    <tr>\n",
       "      <th>February</th>\n",
       "      <td>617</td>\n",
       "      <td>6246</td>\n",
       "      <td>42628</td>\n",
       "    </tr>\n",
       "    <tr>\n",
       "      <th>January</th>\n",
       "      <td>740</td>\n",
       "      <td>6681</td>\n",
       "      <td>45451</td>\n",
       "    </tr>\n",
       "    <tr>\n",
       "      <th>July</th>\n",
       "      <td>753</td>\n",
       "      <td>7863</td>\n",
       "      <td>48829</td>\n",
       "    </tr>\n",
       "    <tr>\n",
       "      <th>June</th>\n",
       "      <td>673</td>\n",
       "      <td>7916</td>\n",
       "      <td>47892</td>\n",
       "    </tr>\n",
       "    <tr>\n",
       "      <th>March</th>\n",
       "      <td>681</td>\n",
       "      <td>7118</td>\n",
       "      <td>46287</td>\n",
       "    </tr>\n",
       "    <tr>\n",
       "      <th>May</th>\n",
       "      <td>760</td>\n",
       "      <td>7721</td>\n",
       "      <td>47871</td>\n",
       "    </tr>\n",
       "    <tr>\n",
       "      <th>November</th>\n",
       "      <td>747</td>\n",
       "      <td>7568</td>\n",
       "      <td>52109</td>\n",
       "    </tr>\n",
       "    <tr>\n",
       "      <th>October</th>\n",
       "      <td>798</td>\n",
       "      <td>7939</td>\n",
       "      <td>50843</td>\n",
       "    </tr>\n",
       "    <tr>\n",
       "      <th>September</th>\n",
       "      <td>723</td>\n",
       "      <td>7987</td>\n",
       "      <td>47745</td>\n",
       "    </tr>\n",
       "  </tbody>\n",
       "</table>\n",
       "</div>"
      ],
      "text/plain": [
       "Accident_Severity  Fatal  Serious  Slight\n",
       "Month                                    \n",
       "April                697     7336   43711\n",
       "August               801     7532   45580\n",
       "December             671     6310   44855\n",
       "February             617     6246   42628\n",
       "January              740     6681   45451\n",
       "July                 753     7863   48829\n",
       "June                 673     7916   47892\n",
       "March                681     7118   46287\n",
       "May                  760     7721   47871\n",
       "November             747     7568   52109\n",
       "October              798     7939   50843\n",
       "September            723     7987   47745"
      ]
     },
     "execution_count": 36,
     "metadata": {},
     "output_type": "execute_result"
    }
   ],
   "source": [
    "severity_month = df.groupby(['Month', 'Accident_Severity']).size()\n",
    "severity_month.unstack()\n"
   ]
  },
  {
   "cell_type": "code",
   "execution_count": 39,
   "id": "22506d00-ba0d-440d-8d85-939857e3d6aa",
   "metadata": {},
   "outputs": [
    {
     "data": {
      "image/png": "[encoded data removed]",
      "text/plain": [
       "<Figure size 640x480 with 1 Axes>"
      ]
     },
     "metadata": {},
     "output_type": "display_data"
    }
   ],
   "source": [
    "severity_month = df.groupby(['Month', 'Accident_Severity']).size()\n",
    "severity_month.unstack().plot(kind='bar', stacked=True)\n",
    "\n",
    "plt.title(\"Accident Severity by Month\")\n",
    "plt.xlabel(\"Month\")\n",
    "plt.ylabel(\"Number of Accidents\")\n",
    "plt.legend(title=\"Severity\")\n",
    "plt.show()\n"
   ]
  },
  {
   "cell_type": "markdown",
   "id": "ce74ae81-9280-42c4-b223-2d5d6f681096",
   "metadata": {},
   "source": [
    "<h2>Insight 1: Serious accidents hover around 13–14%, fairly stable across months. June might have 1,100 serious cases out of 8,200 = 13.4%..</h2>\n",
    "\n",
    "<h2>Insight 2: Fatal accidents are rare but consistent, making up about 1% each month. For instance, December with 90 fatal cases out of 9,000 = 1.0%.</h2>\n",
    "\n",
    "<h2>Insight 3:Overall, while the majority of accidents are slight, the risk of serious/fatal crashes rises in colder months, aligning with hazardous driving conditions.</h2>"
   ]
  },
  {
   "cell_type": "markdown",
   "id": "d7670da2-6956-4ea5-b999-ab66f1f44e40",
   "metadata": {},
   "source": [
    "<h2>25.How do accidents distribute across days of the week by year?</h2>"
   ]
  },
  {
   "cell_type": "code",
   "execution_count": 37,
   "id": "dfd35925-60bd-46ca-8e8b-82f08217bf4e",
   "metadata": {},
   "outputs": [
    {
     "data": {
      "text/html": [
       "<div>\n",
       "<style scoped>\n",
       "    .dataframe tbody tr th:only-of-type {\n",
       "        vertical-align: middle;\n",
       "    }\n",
       "\n",
       "    .dataframe tbody tr th {\n",
       "        vertical-align: top;\n",
       "    }\n",
       "\n",
       "    .dataframe thead th {\n",
       "        text-align: right;\n",
       "    }\n",
       "</style>\n",
       "<table border=\"1\" class=\"dataframe\">\n",
       "  <thead>\n",
       "    <tr style=\"text-align: right;\">\n",
       "      <th>Year</th>\n",
       "      <th>2019</th>\n",
       "      <th>2020</th>\n",
       "      <th>2021</th>\n",
       "      <th>2022</th>\n",
       "    </tr>\n",
       "    <tr>\n",
       "      <th>DayofWeek</th>\n",
       "      <th></th>\n",
       "      <th></th>\n",
       "      <th></th>\n",
       "      <th></th>\n",
       "    </tr>\n",
       "  </thead>\n",
       "  <tbody>\n",
       "    <tr>\n",
       "      <th>0</th>\n",
       "      <td>20386</td>\n",
       "      <td>18750</td>\n",
       "      <td>17861</td>\n",
       "      <td>15683</td>\n",
       "    </tr>\n",
       "    <tr>\n",
       "      <th>1</th>\n",
       "      <td>26251</td>\n",
       "      <td>24381</td>\n",
       "      <td>22972</td>\n",
       "      <td>20946</td>\n",
       "    </tr>\n",
       "    <tr>\n",
       "      <th>2</th>\n",
       "      <td>26927</td>\n",
       "      <td>26245</td>\n",
       "      <td>24791</td>\n",
       "      <td>21595</td>\n",
       "    </tr>\n",
       "    <tr>\n",
       "      <th>3</th>\n",
       "      <td>27300</td>\n",
       "      <td>25830</td>\n",
       "      <td>24799</td>\n",
       "      <td>21582</td>\n",
       "    </tr>\n",
       "    <tr>\n",
       "      <th>4</th>\n",
       "      <td>27303</td>\n",
       "      <td>24948</td>\n",
       "      <td>24305</td>\n",
       "      <td>21344</td>\n",
       "    </tr>\n",
       "    <tr>\n",
       "      <th>5</th>\n",
       "      <td>29262</td>\n",
       "      <td>27387</td>\n",
       "      <td>26666</td>\n",
       "      <td>23863</td>\n",
       "    </tr>\n",
       "    <tr>\n",
       "      <th>6</th>\n",
       "      <td>24686</td>\n",
       "      <td>23050</td>\n",
       "      <td>22160</td>\n",
       "      <td>19406</td>\n",
       "    </tr>\n",
       "  </tbody>\n",
       "</table>\n",
       "</div>"
      ],
      "text/plain": [
       "Year        2019   2020   2021   2022\n",
       "DayofWeek                            \n",
       "0          20386  18750  17861  15683\n",
       "1          26251  24381  22972  20946\n",
       "2          26927  26245  24791  21595\n",
       "3          27300  25830  24799  21582\n",
       "4          27303  24948  24305  21344\n",
       "5          29262  27387  26666  23863\n",
       "6          24686  23050  22160  19406"
      ]
     },
     "execution_count": 37,
     "metadata": {},
     "output_type": "execute_result"
    }
   ],
   "source": [
    "accidents_dow_year = df.groupby(['DayofWeek', 'Year']).size()\n",
    "accidents_dow_year.unstack()"
   ]
  },
  {
   "cell_type": "code",
   "execution_count": 38,
   "id": "79b78d40-845a-478f-a784-fb55889566c0",
   "metadata": {},
   "outputs": [
    {
     "data": {
      "image/png": "[encoded data removed]",
      "text/plain": [
       "<Figure size 640x480 with 1 Axes>"
      ]
     },
     "metadata": {},
     "output_type": "display_data"
    }
   ],
   "source": [
    "accidents_dow_year = df.groupby(['DayofWeek', 'Year']).size()\n",
    "accidents_dow_year.unstack().plot(kind='bar')\n",
    "\n",
    "plt.title(\"Accidents by Day of the Week Across Years\")\n",
    "plt.xlabel(\"Day of the Week\")\n",
    "plt.ylabel(\"Number of Accidents\")\n",
    "plt.legend(title=\"Year\")\n",
    "plt.show()\n"
   ]
  },
  {
   "cell_type": "markdown",
   "id": "0f543dae-7574-440d-937f-b6b10773b126",
   "metadata": {},
   "source": [
    "<h2>Insight 1: Sundays are always the lowest, around 12%. For instance, 7,300 Sunday accidents out of 61,500 = 11.9%. This aligns with reduced commuting.</h2>\n",
    "\n",
    "<h2>Insight 2: Every year comparison shows the pattern stays stable fro Friday is always top, Sunday always lowest, confirming a strong weekly cycle in accident risks. </h2>"
   ]
  },
  {
   "cell_type": "code",
   "execution_count": null,
   "id": "9d70fe65-8b22-4593-8f69-887997e6c0e2",
   "metadata": {},
   "outputs": [],
   "source": []
  }
 ],
 "metadata": {
  "kernelspec": {
   "display_name": "Python 3 (ipykernel)",
   "language": "python",
   "name": "python3"
  },
  "language_info": {
   "codemirror_mode": {
    "name": "ipython",
    "version": 3
   },
   "file_extension": ".py",
   "mimetype": "text/x-python",
   "name": "python",
   "nbconvert_exporter": "python",
   "pygments_lexer": "ipython3",
   "version": "3.13.5"
  }
 },
 "nbformat": 4,
 "nbformat_minor": 5
}
